{
  "nbformat": 4,
  "nbformat_minor": 0,
  "metadata": {
    "colab": {
      "name": "Tarea6.ipynb",
      "provenance": [],
      "authorship_tag": "ABX9TyMTwrB0UIlVYSfU1GDVkcwz",
      "include_colab_link": true
    },
    "kernelspec": {
      "name": "python3",
      "display_name": "Python 3"
    },
    "language_info": {
      "name": "python"
    }
  },
  "cells": [
    {
      "cell_type": "markdown",
      "metadata": {
        "id": "view-in-github",
        "colab_type": "text"
      },
      "source": [
        "<a href=\"https://colab.research.google.com/github/Nequiz319/CYPG11572022/blob/main/Tarea6.ipynb\" target=\"_parent\"><img src=\"https://colab.research.google.com/assets/colab-badge.svg\" alt=\"Open In Colab\"/></a>"
      ]
    },
    {
      "cell_type": "code",
      "metadata": {
        "colab": {
          "base_uri": "https://localhost:8080/"
        },
        "id": "Rt3VO7re-D65",
        "outputId": "789a8029-0b2e-4e65-8868-5ea2a22635a3"
      },
      "source": [
        "## EJERCICIO 2.1 pag 77\n",
        "\n",
        "N = int( input(\"Dame el numero de sonidos por minuto: \") )\n",
        "T = float\n",
        "if N > 0 :\n",
        "    T = N/4 + 40\n",
        "    print(\"la temperatura en grados fahrenheit es: \", T)\n",
        "\n",
        "print(\"Fin del programa\")\n"
      ],
      "execution_count": null,
      "outputs": [
        {
          "output_type": "stream",
          "name": "stdout",
          "text": [
            "Dame el numero de sonidos por minuto: -5\n",
            "Fin del programa\n"
          ]
        }
      ]
    }
  ]
}