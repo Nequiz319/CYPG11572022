{
  "nbformat": 4,
  "nbformat_minor": 0,
  "metadata": {
    "colab": {
      "name": "Funhdamentos4.ipynb",
      "provenance": [],
      "authorship_tag": "ABX9TyOVXspeKKwOuOyEpwtazHwe",
      "include_colab_link": true
    },
    "kernelspec": {
      "name": "python3",
      "display_name": "Python 3"
    },
    "language_info": {
      "name": "python"
    }
  },
  "cells": [
    {
      "cell_type": "markdown",
      "metadata": {
        "id": "view-in-github",
        "colab_type": "text"
      },
      "source": [
        "<a href=\"https://colab.research.google.com/github/Nequiz319/CYPG11572022/blob/main/Funhdamentos4.ipynb\" target=\"_parent\"><img src=\"https://colab.research.google.com/assets/colab-badge.svg\" alt=\"Open In Colab\"/></a>"
      ]
    },
    {
      "cell_type": "markdown",
      "metadata": {
        "id": "B4amSVVPUHWO"
      },
      "source": [
        "# Modulaaridad (Funciones)\n",
        "una función es  una unidad de código reutilizable, además de ser un mécanismo para organizar código.\n",
        "\n",
        "La gran ventaja de emplear funciones es simplificar la programación.\n",
        "\n",
        "### Estructura\n",
        "Una función puede tomar cualquier cantidad de parametros de entrada(de cualquier tipo) y retorna unicamente un sólo valor. Un parametro de entrada es un valor que recibe la función para realizar sus operaciones.\n",
        "Con una función se pueden hacer 2 cosas:\n",
        "1. definirla\n",
        "2. ejecutarla\n",
        "\n",
        "La gran ventaja de tener una función declarada es que la podemos reutilizar cuando se desee.\n"
      ]
    },
    {
      "cell_type": "code",
      "metadata": {
        "id": "2eLDGVQFWi1E"
      },
      "source": [
        "def sumar(op1, op2):\n",
        "    res = op1 + op2\n",
        "    return res"
      ],
      "execution_count": null,
      "outputs": []
    },
    {
      "cell_type": "code",
      "metadata": {
        "colab": {
          "base_uri": "https://localhost:8080/"
        },
        "id": "dvXoItd-YHSW",
        "outputId": "f7b928d4-03b1-4d1b-9ca2-c49d540a0858"
      },
      "source": [
        "res = sumar(2,5)\n",
        "print(res)\n",
        "res = sumar(9,15)\n",
        "print(res)"
      ],
      "execution_count": null,
      "outputs": [
        {
          "output_type": "stream",
          "name": "stdout",
          "text": [
            "7\n",
            "24\n"
          ]
        }
      ]
    },
    {
      "cell_type": "code",
      "metadata": {
        "colab": {
          "base_uri": "https://localhost:8080/"
        },
        "id": "WcqFX87uaX2w",
        "outputId": "826b907b-1542-4130-d27f-f65377807761"
      },
      "source": [
        "def imprime_cuadro():\n",
        "    print(\"****\")\n",
        "    print(\"****\")\n",
        "    print(\"****\")\n",
        "    print(\"****\")\n",
        "imprime_cuadro()"
      ],
      "execution_count": null,
      "outputs": [
        {
          "output_type": "stream",
          "name": "stdout",
          "text": [
            "****\n",
            "****\n",
            "****\n",
            "****\n"
          ]
        }
      ]
    },
    {
      "cell_type": "markdown",
      "metadata": {
        "id": "FlmE4YePbQsA"
      },
      "source": [
        "### Valor de retorno de una función\n",
        "regla de oro.-Una función siempre returna UN SOLO VALOR.Inclusive si ese valor es el vacío.\n"
      ]
    },
    {
      "cell_type": "code",
      "metadata": {
        "colab": {
          "base_uri": "https://localhost:8080/"
        },
        "id": "wWaUpq7ybeJP",
        "outputId": "f1fa2c9c-66c3-4303-91b4-72387d0b4b93"
      },
      "source": [
        "# invocar sumar\n",
        "re = sumar(7, 7)\n",
        "print(res)\n",
        "# invocar la función pintar cuadro\n",
        "res = imprime_cuadro()\n",
        "print(res)"
      ],
      "execution_count": null,
      "outputs": [
        {
          "output_type": "stream",
          "name": "stdout",
          "text": [
            "24\n",
            "****\n",
            "****\n",
            "****\n",
            "****\n",
            "None\n"
          ]
        }
      ]
    },
    {
      "cell_type": "markdown",
      "metadata": {
        "id": "5LFuR5FmdNix"
      },
      "source": [
        "# La palabra reservada None de python\n",
        "Esta palabra reservada signifuca vacío, equivale a la palabra reservada void del lenguaje c, c++ y java.\n",
        "\n",
        "Se usa para indicar ya sea un return vacio o que se recive como parámetro un vacío."
      ]
    },
    {
      "cell_type": "code",
      "metadata": {
        "id": "HGbiczykd8V8"
      },
      "source": [
        "def multiplicar(valor,veces):\n",
        "    if valor == None:\n",
        "        c=-1\n",
        "    else:\n",
        "        c = valor * veces\n",
        "    return c\n"
      ],
      "execution_count": null,
      "outputs": []
    },
    {
      "cell_type": "code",
      "metadata": {
        "colab": {
          "base_uri": "https://localhost:8080/"
        },
        "id": "H0-ewsRFeJOE",
        "outputId": "dbd69574-6c38-434b-f7e6-8d94483a8ef3"
      },
      "source": [
        "res = multiplicar(None,5)\n",
        "print(res)"
      ],
      "execution_count": null,
      "outputs": [
        {
          "output_type": "stream",
          "name": "stdout",
          "text": [
            "-1\n"
          ]
        }
      ]
    },
    {
      "cell_type": "markdown",
      "metadata": {
        "id": "imtmwbKWfj1c"
      },
      "source": [
        "# Parámetros y argumentos\n",
        "Son conceptos relaionados y su diferencia esta centrada en el momento en que se emplea en una función.\n",
        "Es decir en la función sumar, cuando se declara se le llama \"Parámetro\" y cuando se invoca se le llama \"Argumento\""
      ]
    },
    {
      "cell_type": "markdown",
      "metadata": {
        "id": "pfHPBn0Yfa1G"
      },
      "source": [
        "# Parametros posicionales \n"
      ]
    },
    {
      "cell_type": "code",
      "metadata": {
        "id": "BwdH16Ipgt9h"
      },
      "source": [
        "def dividir( op1, op2 ):\n",
        "    c = op1 / op2\n",
        "    return c"
      ],
      "execution_count": null,
      "outputs": []
    },
    {
      "cell_type": "code",
      "metadata": {
        "colab": {
          "base_uri": "https://localhost:8080/"
        },
        "id": "cfQOHZong2FS",
        "outputId": "e5faf979-8f71-4d0f-955e-895e14c83e7e"
      },
      "source": [
        "num1 = 25\n",
        "num2 = 5\n",
        "res = dividir( num1 , num2 )\n",
        "print(res)\n",
        "res = dividir( num2 , num1 )\n",
        "print(res)"
      ],
      "execution_count": null,
      "outputs": [
        {
          "output_type": "stream",
          "name": "stdout",
          "text": [
            "5.0\n",
            "0.2\n"
          ]
        }
      ]
    },
    {
      "cell_type": "markdown",
      "metadata": {
        "id": "az1H5AtshYeg"
      },
      "source": [
        "# Argumentos con palabra clave(keyword)\n",
        "Es la posibilidad de indicarle a la función en timepo de ejecución a que parámetro va dirigido un argumento de entrada.\n",
        "solo esta en python."
      ]
    },
    {
      "cell_type": "code",
      "metadata": {
        "colab": {
          "base_uri": "https://localhost:8080/"
        },
        "id": "kqwPheVxhYLq",
        "outputId": "f3d020b9-770b-42b4-94df-d199d7c912a3"
      },
      "source": [
        "res = dividir( op2=num2 , op1=num1 )\n",
        "print(res)"
      ],
      "execution_count": null,
      "outputs": [
        {
          "output_type": "stream",
          "name": "stdout",
          "text": [
            "5.0\n"
          ]
        }
      ]
    },
    {
      "cell_type": "code",
      "metadata": {
        "id": "GYkcNEAHiVEI"
      },
      "source": [
        "def Letra_J( caracter ):\n",
        "    print(f\"    {caracter}\")\n",
        "    print(f\"    {caracter}\")\n",
        "    print(f\"    {caracter}\")\n",
        "    print(f\"    {caracter}\")\n",
        "    print(f\"{caracter}{caracter}{caracter}{caracter}\")"
      ],
      "execution_count": null,
      "outputs": []
    },
    {
      "cell_type": "code",
      "metadata": {
        "colab": {
          "base_uri": "https://localhost:8080/"
        },
        "id": "MyCJOvS6il_5",
        "outputId": "fb4a4c1a-381b-4fc9-ed4d-2681afdcb592"
      },
      "source": [
        "Letra_J('+')"
      ],
      "execution_count": null,
      "outputs": [
        {
          "output_type": "stream",
          "name": "stdout",
          "text": [
            "    +\n",
            "    +\n",
            "    +\n",
            "    +\n",
            "++++\n"
          ]
        }
      ]
    },
    {
      "cell_type": "markdown",
      "source": [
        "# Argumento por defecto\n",
        "\n",
        "Es la capacidad de las funciones de establecer un valor por defecto(DEFAULT).\n",
        "Si ni se envía un argumento a dicho parámetro, entonces se asigna el que el programador asigno como default."
      ],
      "metadata": {
        "id": "EevxVoPy-Hfd"
      }
    },
    {
      "cell_type": "code",
      "source": [
        "def dividir(op1, op2=1):\n",
        "    c = op1 / op2\n",
        "    return c\n",
        "print(dividir( 25 ))"
      ],
      "metadata": {
        "colab": {
          "base_uri": "https://localhost:8080/"
        },
        "id": "bZ9nxaUC-gpu",
        "outputId": "4d328b2b-9dc5-44ff-e672-9422469994f4"
      },
      "execution_count": null,
      "outputs": [
        {
          "output_type": "stream",
          "name": "stdout",
          "text": [
            "25.0\n"
          ]
        }
      ]
    },
    {
      "cell_type": "markdown",
      "source": [
        "Este concepto se puede ejemplificar con la función **print**.\n"
      ],
      "metadata": {
        "id": "5uU8k935_I0s"
      }
    },
    {
      "cell_type": "code",
      "source": [
        "help(print)"
      ],
      "metadata": {
        "colab": {
          "base_uri": "https://localhost:8080/"
        },
        "id": "Hgz1vtmD_PAd",
        "outputId": "b7d28ebb-f28b-4211-d395-884f2e3d108b"
      },
      "execution_count": null,
      "outputs": [
        {
          "output_type": "stream",
          "name": "stdout",
          "text": [
            "Help on built-in function print in module builtins:\n",
            "\n",
            "print(...)\n",
            "    print(value, ..., sep=' ', end='\\n', file=sys.stdout, flush=False)\n",
            "    \n",
            "    Prints the values to a stream, or to sys.stdout by default.\n",
            "    Optional keyword arguments:\n",
            "    file:  a file-like object (stream); defaults to the current sys.stdout.\n",
            "    sep:   string inserted between values, default a space.\n",
            "    end:   string appended after the last value, default a newline.\n",
            "    flush: whether to forcibly flush the stream.\n",
            "\n"
          ]
        }
      ]
    },
    {
      "cell_type": "code",
      "source": [
        "nombre = \"Adriana\"\n",
        "edad = 18\n",
        "print(nombre, edad, sep='---------')\n",
        "print(\"Holii\", end=\"  \")\n",
        "print((\"--------\"))"
      ],
      "metadata": {
        "colab": {
          "base_uri": "https://localhost:8080/"
        },
        "id": "vje465ZO_5lE",
        "outputId": "3dcfcdeb-3255-45fb-c243-4c6c7658cab2"
      },
      "execution_count": null,
      "outputs": [
        {
          "output_type": "stream",
          "name": "stdout",
          "text": [
            "Adriana---------18\n",
            "Holii  --------\n"
          ]
        }
      ]
    },
    {
      "cell_type": "code",
      "source": [
        "### Ejercicio de argumentos posicionales\n",
        "def comanda(comensal=1,primer=\"consome\",segundo=\"Arriz rojo\",tercero=\"Enchiladas\"):\n",
        "    print(f\"El comensal {comensal} quiere: \")\n",
        "    print(\"\\t Entrada : \", primer)\n",
        "    print(\"\\t Medio : \", segundo)\n",
        "    print(\"\\t Plato fuerte : \", tercero)\n",
        "\n",
        "comanda()\n",
        "# probamos con diferente estructura\n",
        "\n",
        "comanda(3,\"Ensalada\", \"Arroz blanco\", \"Esparragoz al horno\")\n",
        "comanda(\"Ensalada\", \"Arroz blanco\", \"Esparragoz al horno\", 3) \n",
        "comanda(primer=\"Ensalada\", segundo=\"Arroz blanco\", tercero=\"Esparragoz al horno\",comensal=3)\n"
      ],
      "metadata": {
        "colab": {
          "base_uri": "https://localhost:8080/"
        },
        "id": "IWNHAyvaAzRL",
        "outputId": "30d58b20-aa21-4530-8991-9f66b6140f81"
      },
      "execution_count": null,
      "outputs": [
        {
          "output_type": "stream",
          "name": "stdout",
          "text": [
            "El comensal 1 quiere: \n",
            "\t Entrada :  consome\n",
            "\t Medio :  Arriz rojo\n",
            "\t Plato fuerte :  Enchiladas\n",
            "El comensal 3 quiere: \n",
            "\t Entrada :  Ensalada\n",
            "\t Medio :  Arroz blanco\n",
            "\t Plato fuerte :  Esparragoz al horno\n",
            "El comensal Ensalada quiere: \n",
            "\t Entrada :  Arroz blanco\n",
            "\t Medio :  Esparragoz al horno\n",
            "\t Plato fuerte :  3\n",
            "El comensal 3 quiere: \n",
            "\t Entrada :  Ensalada\n",
            "\t Medio :  Arroz blanco\n",
            "\t Plato fuerte :  Esparragoz al horno\n"
          ]
        }
      ]
    },
    {
      "cell_type": "markdown",
      "source": [
        "# Argumentos enviados en grupo en una tupla.\n",
        "Esto sirve para enviar multiples argumentos a una función emplenado el comodin *.\n",
        "\n",
        "```\n",
        "def mifun(args*):\n",
        "    <cuerpo de la fun>\n",
        "```\n"
      ],
      "metadata": {
        "id": "bzLU_CeVDgFA"
      }
    },
    {
      "cell_type": "code",
      "source": [
        "def comanda2( *opciones ):\n",
        "    #print opciones\n",
        "    print(f\"el comensal {opciones[0]} pidio: \")\n",
        "    print(f\"\\tEntrada: {opciones[1]}\")\n",
        "    print(f\"\\tMedio: {opciones[2]}\")\n",
        "    print(f\"\\tPlato fuerte: {opciones[3]}\")\n",
        "    print(\"\\tIndicaciones extra: \")\n",
        "    for instruccion in opciones[4::]:\n",
        "        print(\"\\n\",instrucccion)\n",
        "comanda2(1 ,\"sopa de fideo\",\"arroz\",\"Srrachera\",\"La arrachera que aún se mueva\",\"Postre gelatina\", )"
      ],
      "metadata": {
        "colab": {
          "base_uri": "https://localhost:8080/",
          "height": 426
        },
        "id": "2SJF5cvZERx_",
        "outputId": "90c1ac51-3286-4826-fa90-a1fc791d1a9b"
      },
      "execution_count": null,
      "outputs": [
        {
          "output_type": "stream",
          "name": "stdout",
          "text": [
            "el comensal 1 pidio: \n",
            "\tEntrada: sopa de fideo\n",
            "\tMedio: arroz\n",
            "\tPlato fuerte: Srrachera\n",
            "\tIndicaciones extra: \n"
          ]
        },
        {
          "output_type": "error",
          "ename": "NameError",
          "evalue": "ignored",
          "traceback": [
            "\u001b[0;31m---------------------------------------------------------------------------\u001b[0m",
            "\u001b[0;31mNameError\u001b[0m                                 Traceback (most recent call last)",
            "\u001b[0;32m<ipython-input-30-8d303550e6d6>\u001b[0m in \u001b[0;36m<module>\u001b[0;34m()\u001b[0m\n\u001b[1;32m      8\u001b[0m     \u001b[0;32mfor\u001b[0m \u001b[0minstruccion\u001b[0m \u001b[0;32min\u001b[0m \u001b[0mopciones\u001b[0m\u001b[0;34m[\u001b[0m\u001b[0;36m4\u001b[0m\u001b[0;34m:\u001b[0m\u001b[0;34m:\u001b[0m\u001b[0;34m]\u001b[0m\u001b[0;34m:\u001b[0m\u001b[0;34m\u001b[0m\u001b[0;34m\u001b[0m\u001b[0m\n\u001b[1;32m      9\u001b[0m         \u001b[0mprint\u001b[0m\u001b[0;34m(\u001b[0m\u001b[0;34m\"\\n\"\u001b[0m\u001b[0;34m,\u001b[0m\u001b[0minstrucccion\u001b[0m\u001b[0;34m)\u001b[0m\u001b[0;34m\u001b[0m\u001b[0;34m\u001b[0m\u001b[0m\n\u001b[0;32m---> 10\u001b[0;31m \u001b[0mcomanda2\u001b[0m\u001b[0;34m(\u001b[0m\u001b[0;36m1\u001b[0m \u001b[0;34m,\u001b[0m\u001b[0;34m\"sopa de fideo\"\u001b[0m\u001b[0;34m,\u001b[0m\u001b[0;34m\"arroz\"\u001b[0m\u001b[0;34m,\u001b[0m\u001b[0;34m\"Srrachera\"\u001b[0m\u001b[0;34m,\u001b[0m\u001b[0;34m\"La arrachera que aún se mueva\"\u001b[0m\u001b[0;34m,\u001b[0m\u001b[0;34m\"Postre gelatina\"\u001b[0m\u001b[0;34m,\u001b[0m \u001b[0;34m)\u001b[0m\u001b[0;34m\u001b[0m\u001b[0;34m\u001b[0m\u001b[0m\n\u001b[0m",
            "\u001b[0;32m<ipython-input-30-8d303550e6d6>\u001b[0m in \u001b[0;36mcomanda2\u001b[0;34m(*opciones)\u001b[0m\n\u001b[1;32m      7\u001b[0m     \u001b[0mprint\u001b[0m\u001b[0;34m(\u001b[0m\u001b[0;34m\"\\tIndicaciones extra: \"\u001b[0m\u001b[0;34m)\u001b[0m\u001b[0;34m\u001b[0m\u001b[0;34m\u001b[0m\u001b[0m\n\u001b[1;32m      8\u001b[0m     \u001b[0;32mfor\u001b[0m \u001b[0minstruccion\u001b[0m \u001b[0;32min\u001b[0m \u001b[0mopciones\u001b[0m\u001b[0;34m[\u001b[0m\u001b[0;36m4\u001b[0m\u001b[0;34m:\u001b[0m\u001b[0;34m:\u001b[0m\u001b[0;34m]\u001b[0m\u001b[0;34m:\u001b[0m\u001b[0;34m\u001b[0m\u001b[0;34m\u001b[0m\u001b[0m\n\u001b[0;32m----> 9\u001b[0;31m         \u001b[0mprint\u001b[0m\u001b[0;34m(\u001b[0m\u001b[0;34m\"\\n\"\u001b[0m\u001b[0;34m,\u001b[0m\u001b[0minstrucccion\u001b[0m\u001b[0;34m)\u001b[0m\u001b[0;34m\u001b[0m\u001b[0;34m\u001b[0m\u001b[0m\n\u001b[0m\u001b[1;32m     10\u001b[0m \u001b[0mcomanda2\u001b[0m\u001b[0;34m(\u001b[0m\u001b[0;36m1\u001b[0m \u001b[0;34m,\u001b[0m\u001b[0;34m\"sopa de fideo\"\u001b[0m\u001b[0;34m,\u001b[0m\u001b[0;34m\"arroz\"\u001b[0m\u001b[0;34m,\u001b[0m\u001b[0;34m\"Srrachera\"\u001b[0m\u001b[0;34m,\u001b[0m\u001b[0;34m\"La arrachera que aún se mueva\"\u001b[0m\u001b[0;34m,\u001b[0m\u001b[0;34m\"Postre gelatina\"\u001b[0m\u001b[0;34m,\u001b[0m \u001b[0;34m)\u001b[0m\u001b[0;34m\u001b[0m\u001b[0;34m\u001b[0m\u001b[0m\n",
            "\u001b[0;31mNameError\u001b[0m: name 'instrucccion' is not defined"
          ]
        }
      ]
    },
    {
      "cell_type": "markdown",
      "source": [
        "# Argumnetos enviados en grupo en un diccionario\n",
        "Es el mismo concepto que el anterior pero se usa el comodin ** y se mapea a un diccionario."
      ],
      "metadata": {
        "id": "NebnuE4SG2EQ"
      }
    },
    {
      "cell_type": "code",
      "source": [
        "def comanda3(**opciones):\n",
        "    ops = opciones.keys()\n",
        "    for key in ops:\n",
        "        print(f\"{key}= {opciones[key]}\")\n",
        "comanda3(segundo=\"arroz blanco\",tercero=\"Esparragos al horno\",primer=\"Ensalada\",comensal=3)\n",
        "\n"
      ],
      "metadata": {
        "colab": {
          "base_uri": "https://localhost:8080/"
        },
        "id": "cbAqAWm5G1l2",
        "outputId": "b3fc9565-cc0c-4810-8dc2-2646956c71b9"
      },
      "execution_count": null,
      "outputs": [
        {
          "output_type": "stream",
          "name": "stdout",
          "text": [
            "segundo= arroz blanco\n",
            "tercero= Esparragos al horno\n",
            "primer= Ensalada\n",
            "comensal= 3\n"
          ]
        }
      ]
    },
    {
      "cell_type": "code",
      "source": [
        "def comanda3(**opciones):\n",
        "    print(opciones)\n",
        "    print(f\"El comensal {opciones['comensal']} pidio: \")\n",
        "comanda3(segundo=\"arroz blanco\",tercero=\"Esparragos al horno\",primer=\"Ensalada\",comensal=3)\n"
      ],
      "metadata": {
        "id": "Imosk0VHI5Xc"
      },
      "execution_count": null,
      "outputs": []
    },
    {
      "cell_type": "markdown",
      "source": [
        "#M odularidad y bibliotecas \n",
        "Todos los lenguajes de programación tiene la capacidad de compartir codigo entre  la comunidad de programadores.\n",
        "Para ello  cada lenguaje establece un mecanbismo para escribir y compartir bibliotecas."
      ],
      "metadata": {
        "id": "6piQEBMtJ-Ap"
      }
    },
    {
      "cell_type": "code",
      "source": [
        "!pip install simple_chalk"
      ],
      "metadata": {
        "colab": {
          "base_uri": "https://localhost:8080/"
        },
        "id": "1rJ66A_qLHTU",
        "outputId": "1f4e266d-e703-49aa-f7ea-8f51d1b2dded"
      },
      "execution_count": null,
      "outputs": [
        {
          "output_type": "stream",
          "name": "stdout",
          "text": [
            "Collecting simple_chalk\n",
            "  Downloading simple_chalk-0.1.0.tar.gz (13 kB)\n",
            "Building wheels for collected packages: simple-chalk\n",
            "  Building wheel for simple-chalk (setup.py) ... \u001b[?25l\u001b[?25hdone\n",
            "  Created wheel for simple-chalk: filename=simple_chalk-0.1.0-py3-none-any.whl size=22163 sha256=c744dfad3acff75f7a094380bc75c8121c31b0d389a9d17b736914b89b2819e0\n",
            "  Stored in directory: /root/.cache/pip/wheels/24/e2/84/d54838032016039eef79df1137b91defaa6db068d825dfcdcd\n",
            "Successfully built simple-chalk\n",
            "Installing collected packages: simple-chalk\n",
            "Successfully installed simple-chalk-0.1.0\n"
          ]
        }
      ]
    },
    {
      "cell_type": "code",
      "source": [
        "from simple_chalk import chalk, yellow\n",
        "print(chalk.yellow(\" Hola en color amarillo\"))"
      ],
      "metadata": {
        "colab": {
          "base_uri": "https://localhost:8080/"
        },
        "id": "36LQWsAjM6sv",
        "outputId": "15bb7928-4604-436d-e6b0-3c3f47add888"
      },
      "execution_count": null,
      "outputs": [
        {
          "output_type": "stream",
          "name": "stdout",
          "text": [
            "\u001b[33m Hola en color amarillo\u001b[0m\n"
          ]
        }
      ]
    },
    {
      "cell_type": "markdown",
      "source": [
        "#¿Como escribo un módulo (biblioteca)?\n",
        "Se define en un archivo de biblioteca.\n"
      ],
      "metadata": {
        "id": "Xu-x5sxxPEws"
      }
    },
    {
      "cell_type": "code",
      "source": [
        "!cat mi_modulo.py\n",
        "\n"
      ],
      "metadata": {
        "colab": {
          "base_uri": "https://localhost:8080/"
        },
        "id": "svsZoJdtQZcr",
        "outputId": "35f40896-d414-4061-a0fe-3e0617c16b39"
      },
      "execution_count": 38,
      "outputs": [
        {
          "output_type": "stream",
          "name": "stdout",
          "text": [
            "def sumar(a, b):\r\n",
            "    return a + b\r\n",
            "\r\n",
            "def mi_print( texto, final):\r\n",
            "    print(\"Super: \", texto, end=final)\r\n"
          ]
        }
      ]
    },
    {
      "cell_type": "code",
      "source": [
        "import mi_modulo\n",
        "\n",
        "res = mi_modulo.sumar(6, 5)\n",
        "print(res)\n",
        "\n",
        "mi_modulo.mi_print(\"Adriana\", \"\\n\")"
      ],
      "metadata": {
        "colab": {
          "base_uri": "https://localhost:8080/"
        },
        "id": "iGyNwalQRBc9",
        "outputId": "b1f1719c-e374-4f0a-9c3d-0fac86213b1b"
      },
      "execution_count": 39,
      "outputs": [
        {
          "output_type": "stream",
          "name": "stdout",
          "text": [
            "11\n",
            "Super:  Adriana\n"
          ]
        }
      ]
    },
    {
      "cell_type": "code",
      "source": [
        "from mi_modulo import sumar, mi_print\n",
        "res = sumar(5, 3)\n",
        "print( res )\n",
        "mi_print(\"Adriana\",\"\\n\")"
      ],
      "metadata": {
        "colab": {
          "base_uri": "https://localhost:8080/"
        },
        "id": "tfC20qpHSDxN",
        "outputId": "2f9b2aca-a1a7-40f7-c8e9-8c98d7991229"
      },
      "execution_count": 42,
      "outputs": [
        {
          "output_type": "stream",
          "name": "stdout",
          "text": [
            "8\n",
            "Super:  Adriana\n"
          ]
        }
      ]
    },
    {
      "cell_type": "code",
      "source": [
        "archivo = open(\"salida.txt\", \"wt\")\n",
        "archivo.write(\"hola mundo\")\n",
        "archivo.close()"
      ],
      "metadata": {
        "id": "PnrjYoN_S3oR"
      },
      "execution_count": 47,
      "outputs": []
    },
    {
      "cell_type": "code",
      "source": [
        "!cat salida.txt"
      ],
      "metadata": {
        "colab": {
          "base_uri": "https://localhost:8080/"
        },
        "id": "oZVAf49DTLrh",
        "outputId": "0dff2732-007f-4a6e-a58c-ecdfc1fe4f5f"
      },
      "execution_count": 48,
      "outputs": [
        {
          "output_type": "stream",
          "name": "stdout",
          "text": [
            "hola mundo"
          ]
        }
      ]
    }
  ]
}