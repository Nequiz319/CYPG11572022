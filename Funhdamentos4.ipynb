{
  "nbformat": 4,
  "nbformat_minor": 0,
  "metadata": {
    "colab": {
      "name": "Funhdamentos4.ipynb",
      "provenance": [],
      "authorship_tag": "ABX9TyPF88RXoBMd6XSQjNdhLMb7",
      "include_colab_link": true
    },
    "kernelspec": {
      "name": "python3",
      "display_name": "Python 3"
    },
    "language_info": {
      "name": "python"
    }
  },
  "cells": [
    {
      "cell_type": "markdown",
      "metadata": {
        "id": "view-in-github",
        "colab_type": "text"
      },
      "source": [
        "<a href=\"https://colab.research.google.com/github/Nequiz319/CYPG11572022/blob/main/Funhdamentos4.ipynb\" target=\"_parent\"><img src=\"https://colab.research.google.com/assets/colab-badge.svg\" alt=\"Open In Colab\"/></a>"
      ]
    },
    {
      "cell_type": "markdown",
      "metadata": {
        "id": "B4amSVVPUHWO"
      },
      "source": [
        "# Modulaaridad (Funciones)\n",
        "una función es  una unidad de código reutilizable, además de ser un mécanismo para organizar código.\n",
        "\n",
        "La gran ventaja de emplear funciones es simplificar la programación.\n",
        "\n",
        "### Estructura\n",
        "Una función puede tomar cualquier cantidad de parametros de entrada(de cualquier tipo) y retorna unicamente un sólo valor. Un parametro de entrada es un valor que recibe la función para realizar sus operaciones.\n",
        "Con una función se pueden hacer 2 cosas:\n",
        "1. definirla\n",
        "2. ejecutarla\n",
        "\n",
        "La gran ventaja de tener una función declarada es que la podemos reutilizar cuando se desee.\n"
      ]
    },
    {
      "cell_type": "code",
      "metadata": {
        "id": "2eLDGVQFWi1E"
      },
      "source": [
        "def sumar(op1, op2):\n",
        "    res = op1 + op2\n",
        "    return res"
      ],
      "execution_count": 2,
      "outputs": []
    },
    {
      "cell_type": "code",
      "metadata": {
        "colab": {
          "base_uri": "https://localhost:8080/"
        },
        "id": "dvXoItd-YHSW",
        "outputId": "f7b928d4-03b1-4d1b-9ca2-c49d540a0858"
      },
      "source": [
        "res = sumar(2,5)\n",
        "print(res)\n",
        "res = sumar(9,15)\n",
        "print(res)"
      ],
      "execution_count": 5,
      "outputs": [
        {
          "output_type": "stream",
          "name": "stdout",
          "text": [
            "7\n",
            "24\n"
          ]
        }
      ]
    },
    {
      "cell_type": "code",
      "metadata": {
        "colab": {
          "base_uri": "https://localhost:8080/"
        },
        "id": "WcqFX87uaX2w",
        "outputId": "826b907b-1542-4130-d27f-f65377807761"
      },
      "source": [
        "def imprime_cuadro():\n",
        "    print(\"****\")\n",
        "    print(\"****\")\n",
        "    print(\"****\")\n",
        "    print(\"****\")\n",
        "imprime_cuadro()"
      ],
      "execution_count": 7,
      "outputs": [
        {
          "output_type": "stream",
          "name": "stdout",
          "text": [
            "****\n",
            "****\n",
            "****\n",
            "****\n"
          ]
        }
      ]
    },
    {
      "cell_type": "markdown",
      "metadata": {
        "id": "FlmE4YePbQsA"
      },
      "source": [
        "### Valor de retorno de una función\n",
        "regla de oro.-Una función siempre returna UN SOLO VALOR.Inclusive si ese valor es el vacío.\n"
      ]
    },
    {
      "cell_type": "code",
      "metadata": {
        "colab": {
          "base_uri": "https://localhost:8080/"
        },
        "id": "wWaUpq7ybeJP",
        "outputId": "f1fa2c9c-66c3-4303-91b4-72387d0b4b93"
      },
      "source": [
        "# invocar sumar\n",
        "re = sumar(7, 7)\n",
        "print(res)\n",
        "# invocar la función pintar cuadro\n",
        "res = imprime_cuadro()\n",
        "print(res)"
      ],
      "execution_count": 8,
      "outputs": [
        {
          "output_type": "stream",
          "name": "stdout",
          "text": [
            "24\n",
            "****\n",
            "****\n",
            "****\n",
            "****\n",
            "None\n"
          ]
        }
      ]
    },
    {
      "cell_type": "markdown",
      "metadata": {
        "id": "5LFuR5FmdNix"
      },
      "source": [
        "# La palabra reservada None de python\n",
        "Esta palabra reservada signifuca vacío, equivale a la palabra reservada void del lenguaje c, c++ y java.\n",
        "\n",
        "Se usa para indicar ya sea un return vacio o que se recive como parámetro un vacío."
      ]
    },
    {
      "cell_type": "code",
      "metadata": {
        "id": "HGbiczykd8V8"
      },
      "source": [
        "def multiplicar(valor,veces):\n",
        "    if valor == None:\n",
        "        c=-1\n",
        "    else:\n",
        "        c = valor * veces\n",
        "    return c\n"
      ],
      "execution_count": 15,
      "outputs": []
    },
    {
      "cell_type": "code",
      "metadata": {
        "colab": {
          "base_uri": "https://localhost:8080/"
        },
        "id": "H0-ewsRFeJOE",
        "outputId": "dbd69574-6c38-434b-f7e6-8d94483a8ef3"
      },
      "source": [
        "res = multiplicar(None,5)\n",
        "print(res)"
      ],
      "execution_count": 16,
      "outputs": [
        {
          "output_type": "stream",
          "name": "stdout",
          "text": [
            "-1\n"
          ]
        }
      ]
    },
    {
      "cell_type": "markdown",
      "metadata": {
        "id": "imtmwbKWfj1c"
      },
      "source": [
        "# Parámetros y argumentos\n",
        "Son conceptos relaionados y su diferencia esta centrada en el momento en que se emplea en una función.\n",
        "Es decir en la función sumar, cuando se declara se le llama \"Parámetro\" y cuando se invoca se le llama \"Argumento\""
      ]
    },
    {
      "cell_type": "markdown",
      "metadata": {
        "id": "pfHPBn0Yfa1G"
      },
      "source": [
        "# Parametros posicionales \n"
      ]
    },
    {
      "cell_type": "code",
      "metadata": {
        "id": "BwdH16Ipgt9h"
      },
      "source": [
        "def dividir( op1, op2 ):\n",
        "    c = op1 / op2\n",
        "    return c"
      ],
      "execution_count": 20,
      "outputs": []
    },
    {
      "cell_type": "code",
      "metadata": {
        "colab": {
          "base_uri": "https://localhost:8080/"
        },
        "id": "cfQOHZong2FS",
        "outputId": "e5faf979-8f71-4d0f-955e-895e14c83e7e"
      },
      "source": [
        "num1 = 25\n",
        "num2 = 5\n",
        "res = dividir( num1 , num2 )\n",
        "print(res)\n",
        "res = dividir( num2 , num1 )\n",
        "print(res)"
      ],
      "execution_count": 24,
      "outputs": [
        {
          "output_type": "stream",
          "name": "stdout",
          "text": [
            "5.0\n",
            "0.2\n"
          ]
        }
      ]
    },
    {
      "cell_type": "markdown",
      "metadata": {
        "id": "az1H5AtshYeg"
      },
      "source": [
        "# Argumentos con palabra clave(keyword)\n",
        "Es la posibilidad de indicarle a la función en timepo de ejecución a que parámetro va dirigido un argumento de entrada.\n",
        "solo esta en python."
      ]
    },
    {
      "cell_type": "code",
      "metadata": {
        "colab": {
          "base_uri": "https://localhost:8080/"
        },
        "id": "kqwPheVxhYLq",
        "outputId": "f3d020b9-770b-42b4-94df-d199d7c912a3"
      },
      "source": [
        "res = dividir( op2=num2 , op1=num1 )\n",
        "print(res)"
      ],
      "execution_count": 25,
      "outputs": [
        {
          "output_type": "stream",
          "name": "stdout",
          "text": [
            "5.0\n"
          ]
        }
      ]
    },
    {
      "cell_type": "code",
      "metadata": {
        "id": "GYkcNEAHiVEI"
      },
      "source": [
        "def Letra_J( caracter ):\n",
        "    print(f\"    {caracter}\")\n",
        "    print(f\"    {caracter}\")\n",
        "    print(f\"    {caracter}\")\n",
        "    print(f\"    {caracter}\")\n",
        "    print(f\"{caracter}{caracter}{caracter}{caracter}\")"
      ],
      "execution_count": 32,
      "outputs": []
    },
    {
      "cell_type": "code",
      "metadata": {
        "colab": {
          "base_uri": "https://localhost:8080/"
        },
        "id": "MyCJOvS6il_5",
        "outputId": "fb4a4c1a-381b-4fc9-ed4d-2681afdcb592"
      },
      "source": [
        "Letra_J('+')"
      ],
      "execution_count": 33,
      "outputs": [
        {
          "output_type": "stream",
          "name": "stdout",
          "text": [
            "    +\n",
            "    +\n",
            "    +\n",
            "    +\n",
            "++++\n"
          ]
        }
      ]
    }
  ]
}