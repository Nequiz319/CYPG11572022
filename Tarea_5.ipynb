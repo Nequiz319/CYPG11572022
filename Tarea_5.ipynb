{
  "nbformat": 4,
  "nbformat_minor": 0,
  "metadata": {
    "colab": {
      "name": "Tarea 5.ipynb",
      "provenance": [],
      "authorship_tag": "ABX9TyNBv4dfjbmMN+/D/I6uOduB",
      "include_colab_link": true
    },
    "kernelspec": {
      "name": "python3",
      "display_name": "Python 3"
    },
    "language_info": {
      "name": "python"
    }
  },
  "cells": [
    {
      "cell_type": "markdown",
      "metadata": {
        "id": "view-in-github",
        "colab_type": "text"
      },
      "source": [
        "<a href=\"https://colab.research.google.com/github/Nequiz319/CYPG11572022/blob/main/Tarea_5.ipynb\" target=\"_parent\"><img src=\"https://colab.research.google.com/assets/colab-badge.svg\" alt=\"Open In Colab\"/></a>"
      ]
    },
    {
      "cell_type": "code",
      "metadata": {
        "colab": {
          "base_uri": "https://localhost:8080/"
        },
        "id": "awQ4kDKYrP4O",
        "outputId": "6a9c3a5d-6775-4e0d-b2dc-7ffb6f860925"
      },
      "source": [
        "## EJERCICIO 1\n",
        "\n",
        "A = int(input(\"Dame el primer valor entero: \"))\n",
        "B = int(input(\"Dame el segundo valor entero: \"))\n",
        "if A  > B :\n",
        "    print(\"El número mayor es: \", A)\n",
        "    print(\"El número menor es: \", B)\n",
        "elif B > A : \n",
        "    print(\"El número mayor es: \", B)\n",
        "    print(\"El número menor es: \", A)\n",
        "elif A == B : \n",
        "    print(\"Los valores son iguales\")\n",
        "else: \n",
        "    print(\"No se pudo realizar la comparación\")\n",
        "print(\"fin del programa\")"
      ],
      "execution_count": 16,
      "outputs": [
        {
          "output_type": "stream",
          "name": "stdout",
          "text": [
            "Dame el primer valor entero: 15\n",
            "Dame el segundo valor entero: 15\n",
            "Los valores son iguales\n",
            "fin del programa\n"
          ]
        }
      ]
    },
    {
      "cell_type": "code",
      "metadata": {
        "colab": {
          "base_uri": "https://localhost:8080/"
        },
        "id": "3L51XhGC_I5W",
        "outputId": "bca03877-05d8-44c8-a6f9-525df0aa3270"
      },
      "source": [
        "## EJERCICIO 2\n",
        "\n",
        "A = int(input(\"Dame el primer valor entero: \"))\n",
        "B = int(input(\"Dame el segundo valor entero: \"))\n",
        "C = int(input(\"Dame el tercer valor entero: \"))\n",
        "if A  > B and A > C:\n",
        "    print(\"El número mayor es: \", A)\n",
        "elif B > A and B > C: \n",
        "    print(\"El número mayor es: \", B)\n",
        "elif C > A and C > B: \n",
        "    print(\"El número mayor es: \", C)\n",
        "else: \n",
        "    print(\"No se pudo realizar la comparación\")\n",
        "print(\"fin del programa\")\n",
        "\n"
      ],
      "execution_count": 10,
      "outputs": [
        {
          "output_type": "stream",
          "name": "stdout",
          "text": [
            "Dame el primer valor entero: 56\n",
            "Dame el segundo valor entero: 78\n",
            "Dame el tercer valor entero: 32\n",
            "El número mayor es:  78\n",
            "fin del programa\n"
          ]
        }
      ]
    },
    {
      "cell_type": "code",
      "metadata": {
        "id": "Xp16TScRECFS",
        "colab": {
          "base_uri": "https://localhost:8080/"
        },
        "outputId": "09c06ea0-8104-4da2-81c0-68a296364c31"
      },
      "source": [
        "## EJERCICIO 3\n",
        "\n",
        "A = int(input(\"Dame un valor entero: \"))\n",
        "B = int(input(\"Dame un otro valor entero: \"))\n",
        "C = int(input(\"Dame un otro valor entero: \"))\n",
        "if A  < B and A < C:\n",
        "    print(\"El número menor es: \", A)\n",
        "elif B < A and B < C: \n",
        "    print(\"El número menor es: \", B)\n",
        "elif C < A and C < B: \n",
        "    print(\"El número menor es: \", C)\n",
        "print(\"fin del programa\")"
      ],
      "execution_count": 12,
      "outputs": [
        {
          "output_type": "stream",
          "name": "stdout",
          "text": [
            "Dame un valor entero: 34\n",
            "Dame un otro valor entero: 16\n",
            "Dame un otro valor entero: 78\n",
            "El número menor es:  16\n",
            "fin del programa\n"
          ]
        }
      ]
    }
  ]
}