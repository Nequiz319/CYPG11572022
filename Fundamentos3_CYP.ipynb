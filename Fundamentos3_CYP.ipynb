{
  "nbformat": 4,
  "nbformat_minor": 0,
  "metadata": {
    "colab": {
      "name": "Fundamentos3_CYP.ipynb",
      "provenance": [],
      "authorship_tag": "ABX9TyP/XMihknltDUZ/tjEYLWkV",
      "include_colab_link": true
    },
    "kernelspec": {
      "name": "python3",
      "display_name": "Python 3"
    },
    "language_info": {
      "name": "python"
    }
  },
  "cells": [
    {
      "cell_type": "markdown",
      "metadata": {
        "id": "view-in-github",
        "colab_type": "text"
      },
      "source": [
        "<a href=\"https://colab.research.google.com/github/Nequiz319/CYPG11572022/blob/main/Fundamentos3_CYP.ipynb\" target=\"_parent\"><img src=\"https://colab.research.google.com/assets/colab-badge.svg\" alt=\"Open In Colab\"/></a>"
      ]
    },
    {
      "cell_type": "markdown",
      "metadata": {
        "id": "T1wgAclLFpVr"
      },
      "source": [
        "## Repetición\n",
        "     - Este tipo de estructura nos permite automatizar la ejecución repetitiva del código mientras ciertas condiciones se cumplan, tenemos 3 variantes de esta estructura en todos los lenguajes de programación:\n",
        "     - Desde...Hasta (estructura for)\n",
        "     - Haz mientras(estructura while)\n",
        "     - Haz y luego valida mientras (estructura Do-While)\n",
        "# FOR CON python \n",
        "```\n",
        "for j in range(10):\n",
        "    print(f\"Hola{ j }\")\n",
        "```\n",
        "# FOR CON Leng c Y/O JAVA\n",
        "```\n",
        "for (int j=0 ; j<10 ; j=j+1 );\n",
        "    printf(\"Hola %i\\n\", j);\n",
        "```\n",
        "\n",
        "En todos lo lenguajes de programación existen un tipo especial de FOR, conocido como **for-each**\n",
        "# For-each en python\n",
        "\n",
        "```\n",
        "for color in coplores:\n",
        "\n",
        "    print(f\"Este color {color}\");\n",
        "```"
      ]
    },
    {
      "cell_type": "code",
      "metadata": {
        "colab": {
          "base_uri": "https://localhost:8080/"
        },
        "id": "j9Kq60boFrCS",
        "outputId": "5a271afb-266c-4c44-cdf5-24f730ecb3b8"
      },
      "source": [
        "# funcion range()\n",
        "# range (<inicio>, <stop>, <incremento>)\n",
        "x = range(0,10,2)\n",
        "print(x)\n",
        "\n",
        "for j in range(10): # range (0, 10)\n",
        "    print(f\"Hola {j}\")\n",
        "print(\"-------------\")\n",
        "for j in range(0,10,2): # range (0, 10)\n",
        "    print(f\"Hola {j}\")\n",
        "print(\"-------------\")\n",
        "frutas = [\"Uva\", \"Aguacate\", \"Pera\", \"Manzana\", \"Sandia\"]\n",
        "print(frutas[0])\n",
        "print(frutas[1])\n",
        "print(frutas[2])\n",
        "print(frutas[3])\n",
        "print(frutas[4])\n",
        "\n",
        "print(\"---Frutas---\")\n",
        "for index in range(5):\n",
        "    print(frutas[index])\n",
        "\n",
        "for i in range(5):\n",
        "    print(\"+++++\")"
      ],
      "execution_count": null,
      "outputs": [
        {
          "output_type": "stream",
          "name": "stdout",
          "text": [
            "range(0, 10, 2)\n",
            "Hola 0\n",
            "Hola 1\n",
            "Hola 2\n",
            "Hola 3\n",
            "Hola 4\n",
            "Hola 5\n",
            "Hola 6\n",
            "Hola 7\n",
            "Hola 8\n",
            "Hola 9\n",
            "-------------\n",
            "Hola 0\n",
            "Hola 2\n",
            "Hola 4\n",
            "Hola 6\n",
            "Hola 8\n",
            "-------------\n",
            "Uva\n",
            "Aguacate\n",
            "Pera\n",
            "Manzana\n",
            "Sandia\n",
            "---Frutas---\n",
            "Uva\n",
            "Aguacate\n",
            "Pera\n",
            "Manzana\n",
            "Sandia\n",
            "+++++\n",
            "+++++\n",
            "+++++\n",
            "+++++\n",
            "+++++\n"
          ]
        }
      ]
    },
    {
      "cell_type": "code",
      "metadata": {
        "colab": {
          "base_uri": "https://localhost:8080/"
        },
        "id": "gUxF-ijWL5JN",
        "outputId": "df58f93b-810d-4e92-9c3d-6b3eb8f779ca"
      },
      "source": [
        "for x in range(1,20,1):\n",
        "    print(x)\n",
        "print(\"Fin del programa\")\n",
        "\n",
        "for x in range(19,0,-1):\n",
        "    print(x)\n",
        "print(\"Fin del programa\")"
      ],
      "execution_count": 2,
      "outputs": [
        {
          "output_type": "stream",
          "name": "stdout",
          "text": [
            "1\n",
            "2\n",
            "3\n",
            "4\n",
            "5\n",
            "6\n",
            "7\n",
            "8\n",
            "9\n",
            "10\n",
            "11\n",
            "12\n",
            "13\n",
            "14\n",
            "15\n",
            "16\n",
            "17\n",
            "18\n",
            "19\n",
            "Fin del programa\n",
            "19\n",
            "18\n",
            "17\n",
            "16\n",
            "15\n",
            "14\n",
            "13\n",
            "12\n",
            "11\n",
            "10\n",
            "9\n",
            "8\n",
            "7\n",
            "6\n",
            "5\n",
            "4\n",
            "3\n",
            "2\n",
            "1\n",
            "Fin del programa\n"
          ]
        }
      ]
    },
    {
      "cell_type": "code",
      "metadata": {
        "colab": {
          "base_uri": "https://localhost:8080/"
        },
        "id": "DM_xzRGMNph_",
        "outputId": "fa8b75f8-4b6e-47da-a4c2-d727b9a99f4d"
      },
      "source": [
        "# Ejemplo 3.3\n",
        "\n",
        "CUECER = 0\n",
        "NUM = 0\n",
        "N = int(input(\"Introduce un valor mayor que 1: \"))\n",
        "for I in range(1, N+1, 1 ): ## para que llegue al valor dado\n",
        "   N = int(input(\"Introduce un valor mayor que 1: \")) \n",
        "   if N == 0:\n",
        "       CUECER += 1\n",
        "\n",
        "print(\"CUECER=\", CUECER)\n",
        "\n",
        "\n"
      ],
      "execution_count": 8,
      "outputs": [
        {
          "output_type": "stream",
          "name": "stdout",
          "text": [
            "Introduce un valor mayor que 1: -1\n",
            "CUECER= 0\n"
          ]
        }
      ]
    },
    {
      "cell_type": "code",
      "metadata": {
        "colab": {
          "base_uri": "https://localhost:8080/"
        },
        "id": "rEBaIe2tRQtp",
        "outputId": "5875a95b-6e24-446b-e5b4-4641f28c7d34"
      },
      "source": [
        "for f in range(1,11): print(f'7 x {f} = {7 * f}')\n",
        "print(f)"
      ],
      "execution_count": 9,
      "outputs": [
        {
          "output_type": "stream",
          "name": "stdout",
          "text": [
            "7 x 1 = 7\n",
            "7 x 2 = 14\n",
            "7 x 3 = 21\n",
            "7 x 4 = 28\n",
            "7 x 5 = 35\n",
            "7 x 6 = 42\n",
            "7 x 7 = 49\n",
            "7 x 8 = 56\n",
            "7 x 9 = 63\n",
            "7 x 10 = 70\n",
            "10\n"
          ]
        }
      ]
    },
    {
      "cell_type": "code",
      "metadata": {
        "colab": {
          "base_uri": "https://localhost:8080/"
        },
        "id": "ibAlgFn4SURr",
        "outputId": "766ea837-a5d7-435e-baab-1d74833ea253"
      },
      "source": [
        "N1 = int(input(\"Introduce el primer  valor entre 1 y 5: \"))\n",
        "if N1 > 0 and N1 <= 5:\n",
        "    N2 = int(input(f\"Introduce el segundo valor entre {N1} y 10: \"))\n",
        "    if N2 >= N1 and N2 <=10:\n",
        "        for i in range(N1, N2+1):\n",
        "            for j in range(1, 11):\n",
        "                print(f\"{i} x {j} = \", i*j)\n",
        "            print(\"---------\")\n",
        "else:\n",
        "    print(\"Valor no ejecutable\")\n"
      ],
      "execution_count": 13,
      "outputs": [
        {
          "output_type": "stream",
          "name": "stdout",
          "text": [
            "Introduce el primer  valor entre 1 y 5: 4\n",
            "Introduce el segundo valor entre 4 y 10: 7\n",
            "4 x 1 =  4\n",
            "4 x 2 =  8\n",
            "4 x 3 =  12\n",
            "4 x 4 =  16\n",
            "4 x 5 =  20\n",
            "4 x 6 =  24\n",
            "4 x 7 =  28\n",
            "4 x 8 =  32\n",
            "4 x 9 =  36\n",
            "4 x 10 =  40\n",
            "---------\n",
            "5 x 1 =  5\n",
            "5 x 2 =  10\n",
            "5 x 3 =  15\n",
            "5 x 4 =  20\n",
            "5 x 5 =  25\n",
            "5 x 6 =  30\n",
            "5 x 7 =  35\n",
            "5 x 8 =  40\n",
            "5 x 9 =  45\n",
            "5 x 10 =  50\n",
            "---------\n",
            "6 x 1 =  6\n",
            "6 x 2 =  12\n",
            "6 x 3 =  18\n",
            "6 x 4 =  24\n",
            "6 x 5 =  30\n",
            "6 x 6 =  36\n",
            "6 x 7 =  42\n",
            "6 x 8 =  48\n",
            "6 x 9 =  54\n",
            "6 x 10 =  60\n",
            "---------\n",
            "7 x 1 =  7\n",
            "7 x 2 =  14\n",
            "7 x 3 =  21\n",
            "7 x 4 =  28\n",
            "7 x 5 =  35\n",
            "7 x 6 =  42\n",
            "7 x 7 =  49\n",
            "7 x 8 =  56\n",
            "7 x 9 =  63\n",
            "7 x 10 =  70\n",
            "---------\n"
          ]
        }
      ]
    },
    {
      "cell_type": "code",
      "metadata": {
        "colab": {
          "base_uri": "https://localhost:8080/"
        },
        "id": "M4XugfkgURFY",
        "outputId": "6dedffcd-b974-4fa3-96a9-774257dd56cd"
      },
      "source": [
        " ## Generadores del listas\n",
        "\n",
        " numeros = [0,0,0,0,0]\n",
        " print(numeros)\n",
        " numero = [0 for x in range(5)]\n",
        " print(numeros)\n",
        " ## emplenado la variable de control x para el valor inicial\n",
        "numero = [ x for x in range(5) ]\n",
        " print(numero)\n",
        " print(\"-------\")\n",
        " numero = [ (x+1)*10 for x in range(10) ]\n",
        " print(numero)\n",
        " print(\"-------\")\n",
        " numero = [ (x*10) for x in range(1, 11) ]\n",
        " print(numero)\n",
        " print(\"-------\")\n",
        " numero = [ x for x in range(10, 101, 10) ]\n",
        " print(numero)"
      ],
      "execution_count": 26,
      "outputs": [
        {
          "output_type": "stream",
          "name": "stdout",
          "text": [
            "[0, 0, 0, 0, 0]\n",
            "[0, 0, 0, 0, 0]\n",
            "[0, 1, 2, 3, 4]\n",
            "-------\n",
            "[10, 20, 30, 40, 50, 60, 70, 80, 90, 100]\n",
            "-------\n",
            "[10, 20, 30, 40, 50, 60, 70, 80, 90, 100]\n",
            "-------\n",
            "[10, 20, 30, 40, 50, 60, 70, 80, 90, 100]\n"
          ]
        }
      ]
    },
    {
      "cell_type": "code",
      "metadata": {
        "colab": {
          "base_uri": "https://localhost:8080/"
        },
        "id": "A-la6oI_YQ8h",
        "outputId": "c1c54878-dfb5-4e52-ace4-9016f4cddc5e"
      },
      "source": [
        "# ejercicio: calcular promedio de edades\n",
        "suma = 0\n",
        "edades = [0 for x in range(5)]\n",
        "for x in range(5):\n",
        "    edades[x]=int(input(\"Dame la edad: \"))\n",
        "    suma = suma + edades[x]\n",
        "print(edades)\n",
        "print(\"El promedio es: \", suma/5)\n"
      ],
      "execution_count": 35,
      "outputs": [
        {
          "output_type": "stream",
          "name": "stdout",
          "text": [
            "Dame la edad: 34\n",
            "Dame la edad: 287\n",
            "Dame la edad: 9\n",
            "Dame la edad: 10\n",
            "Dame la edad: 8\n",
            "[34, 287, 9, 10, 8]\n",
            "El promedio es:  69.6\n"
          ]
        }
      ]
    },
    {
      "cell_type": "code",
      "metadata": {
        "colab": {
          "base_uri": "https://localhost:8080/"
        },
        "id": "iDGXl3VacNfu",
        "outputId": "bc2af145-7e66-4fed-e522-56dc62dc90c6"
      },
      "source": [
        "import random\n",
        "print(random.random())\n",
        "print(random.uniform(5, 11))\n",
        "val = round(random.uniform(5, 11),2)\n",
        "print(val)\n",
        "print(\"--------\")\n",
        "valores = [round(random.uniform(5, 11),2) for x in range(20)]\n",
        "print(valores)\n",
        "\n",
        "### tarea: mayor, menor y promedio de los valores 20 valores (pag 115-126)"
      ],
      "execution_count": 46,
      "outputs": [
        {
          "output_type": "stream",
          "name": "stdout",
          "text": [
            "0.534543500945752\n",
            "7.440215986960475\n",
            "6.66\n",
            "--------\n",
            "[8.37, 9.15, 5.64, 5.37, 6.25, 10.86, 8.82, 10.11, 10.07, 8.57, 10.1, 10.1, 10.74, 9.57, 10.83, 8.56, 5.74, 6.38, 5.2, 9.15]\n"
          ]
        }
      ]
    }
  ]
}