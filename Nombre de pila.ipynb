{
  "nbformat": 4,
  "nbformat_minor": 0,
  "metadata": {
    "colab": {
      "name": "Untitled1.ipynb",
      "provenance": [],
      "authorship_tag": "ABX9TyMPddgq7IdKL6NDnRTNJECd",
      "include_colab_link": true
    },
    "kernelspec": {
      "name": "python3",
      "display_name": "Python 3"
    },
    "language_info": {
      "name": "python"
    }
  },
  "cells": [
    {
      "cell_type": "markdown",
      "metadata": {
        "id": "view-in-github",
        "colab_type": "text"
      },
      "source": [
        "<a href=\"https://colab.research.google.com/github/Nequiz319/CYPG11572022/blob/main/Nombre%20de%20pila.ipynb\" target=\"_parent\"><img src=\"https://colab.research.google.com/assets/colab-badge.svg\" alt=\"Open In Colab\"/></a>"
      ]
    },
    {
      "cell_type": "code",
      "metadata": {
        "colab": {
          "base_uri": "https://localhost:8080/"
        },
        "id": "__XgZ0Z_kQg4",
        "outputId": "f3135115-bc1c-48bc-f084-5e9d39d12159"
      },
      "source": [
        "print(\"\"\"\n",
        "    A\n",
        "   A A\n",
        "  A   A\n",
        " AAAAAAA\n",
        "A       A\"\"\")\n",
        "\n",
        "print(\"\"\"\n",
        "D D\n",
        "D   D\n",
        "D    D\n",
        "D   D\n",
        "D D\"\"\")\n",
        "print(\"\"\"\n",
        "R  R\n",
        "R   R\n",
        "RRR  \n",
        "R   R\n",
        "R    R\"\"\")\n",
        "print(\"\"\"\n",
        "III\n",
        " I\n",
        " I\n",
        " I\n",
        "III\"\"\")\n",
        "print(\"\"\"\n",
        "    A\n",
        "   A A\n",
        "  A   A\n",
        " AAAAAAA\n",
        "A       A\"\"\")\n",
        "print(\"\"\"\n",
        "N      N\n",
        "N  N   N\n",
        "N   N  N\n",
        "N    N N\n",
        "N      N\"\"\")\n",
        "print(\"\"\"\n",
        "    A\n",
        "   A A\n",
        "  A   A\n",
        " AAAAAAA\n",
        "A       A\"\"\")"
      ],
      "execution_count": null,
      "outputs": [
        {
          "output_type": "stream",
          "name": "stdout",
          "text": [
            "\n",
            "    A\n",
            "   A A\n",
            "  A   A\n",
            " AAAAAAA\n",
            "A       A\n",
            "\n",
            "D D\n",
            "D   D\n",
            "D    D\n",
            "D   D\n",
            "D D\n",
            "\n",
            "R  R\n",
            "R   R\n",
            "RRR  \n",
            "R   R\n",
            "R    R\n",
            "\n",
            "III\n",
            " I\n",
            " I\n",
            " I\n",
            "III\n",
            "\n",
            "    A\n",
            "   A A\n",
            "  A   A\n",
            " AAAAAAA\n",
            "A       A\n",
            "\n",
            "N      N\n",
            "N  N   N\n",
            "N   N  N\n",
            "N    N N\n",
            "N      N\n",
            "\n",
            "    A\n",
            "   A A\n",
            "  A   A\n",
            " AAAAAAA\n",
            "A       A\n"
          ]
        }
      ]
    }
  ]
}