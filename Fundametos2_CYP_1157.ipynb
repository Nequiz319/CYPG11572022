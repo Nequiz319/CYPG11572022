{
  "nbformat": 4,
  "nbformat_minor": 0,
  "metadata": {
    "colab": {
      "name": "Fundametos2_CYP_1157.ipynb",
      "provenance": [],
      "authorship_tag": "ABX9TyNMekWZ5K3szthO6iD8PzeY",
      "include_colab_link": true
    },
    "kernelspec": {
      "name": "python3",
      "display_name": "Python 3"
    },
    "language_info": {
      "name": "python"
    }
  },
  "cells": [
    {
      "cell_type": "markdown",
      "metadata": {
        "id": "view-in-github",
        "colab_type": "text"
      },
      "source": [
        "<a href=\"https://colab.research.google.com/github/Nequiz319/CYPG11572022/blob/main/Fundametos2_CYP_1157.ipynb\" target=\"_parent\"><img src=\"https://colab.research.google.com/assets/colab-badge.svg\" alt=\"Open In Colab\"/></a>"
      ]
    },
    {
      "cell_type": "markdown",
      "metadata": {
        "id": "5wN6WGCaFdAP"
      },
      "source": [
        "# tipos de dato estructurado\n",
        "\n",
        "1. Listas\n",
        "2. Truplas\n",
        "3. Ciccionarios\n",
        "4. Conjuntos(opcional)"
      ]
    },
    {
      "cell_type": "markdown",
      "metadata": {
        "id": "LT4f8yDZFthO"
      },
      "source": [
        "# Listas\n",
        "- Tipo de dato que agrupa variables o valores.\n",
        "- Estructura secuencial (undexados empezando por 0)\n",
        "- Se declara de 2 formas#\n",
        "     - usando []\n",
        "     - usando list()\n",
        "     - usando un generador\n",
        "- Puede contener tipos de datos diversos ( En otros lenguajes de programación esto no es posible de forma directa)\n",
        "- Los elemntos internos se selccionas con []\n",
        "- Soporta slicing\n",
        "- Generadores [var for x in range ( 10 )]\n",
        "- Son mutables\n"
      ]
    },
    {
      "cell_type": "code",
      "metadata": {
        "colab": {
          "base_uri": "https://localhost:8080/"
        },
        "id": "IDD7qaFFFUDc",
        "outputId": "72923ba9-a581-4538-ef07-094229c64e9f"
      },
      "source": [
        "lista = [10, 5, 2, 6, 3]\n",
        "print(lista)\n",
        "\n",
        "lista2 = list()\n",
        "lista2.append(10)\n",
        "lista2.append(5)\n",
        "lista2.append(2)\n",
        "lista2.append(15)\n",
        "lista2.append(22)\n",
        "print(lista2)\n",
        "lista[2] = 20\n",
        "print(lista)\n",
        "lista[3] = 8\n",
        "print(lista)\n",
        "lista[-1] = 15\n",
        "print(lista)"
      ],
      "execution_count": null,
      "outputs": [
        {
          "output_type": "stream",
          "name": "stdout",
          "text": [
            "[10, 5, 2, 6, 3]\n",
            "[10, 5, 2, 15, 22]\n",
            "[10, 5, 20, 6, 3]\n",
            "[10, 5, 20, 8, 3]\n",
            "[10, 5, 20, 8, 15]\n"
          ]
        }
      ]
    },
    {
      "cell_type": "code",
      "metadata": {
        "colab": {
          "base_uri": "https://localhost:8080/"
        },
        "id": "nLGllKdNIdXM",
        "outputId": "8b8a25d7-22b4-46e2-ce2b-6487430a155a"
      },
      "source": [
        "# tipos diversos\n",
        "\n",
        "cosas = [12, 2, True, \"Adriana\", 1.54, [\"pera\", \"kiwi\", \"uva\"]]\n",
        "print(cosas)\n",
        "print(cosas[1])\n",
        "print(cosas[ 4 ])\n",
        "print(cosas[ 5 ])\n",
        "print(cosas[ 5][1])\n",
        "print(cosas[ 3][1:3])\n",
        "cosas[3] = cosas[3].upper()\n",
        "print(cosas)"
      ],
      "execution_count": null,
      "outputs": [
        {
          "output_type": "stream",
          "name": "stdout",
          "text": [
            "[12, 2, True, 'Adriana', 1.54, ['pera', 'kiwi', 'uva']]\n",
            "2\n",
            "1.54\n",
            "['pera', 'kiwi', 'uva']\n",
            "kiwi\n",
            "dr\n",
            "[12, 2, True, 'ADRIANA', 1.54, ['pera', 'kiwi', 'uva']]\n"
          ]
        }
      ]
    },
    {
      "cell_type": "code",
      "metadata": {
        "colab": {
          "base_uri": "https://localhost:8080/"
        },
        "id": "Kg1Z9wDvL7BP",
        "outputId": "5b19b7a9-afc1-4695-86be-0c966ee40e25"
      },
      "source": [
        "numeros = [1, 2, 3, 4, 5, 6, 7, 8, 9, 10, 11]\n",
        "print(numeros)\n",
        "#slicing\n",
        "# 1.- 4 al 8\n",
        "print( numeros[3:8] ) \n",
        "# 2: [9,10]\n",
        "print( numeros[8:10] )\n",
        "print( numeros[-3:-1] )\n",
        "#3:.- imprimir la lista en orden inverso\n",
        "print( numeros[::-1] )\n"
      ],
      "execution_count": null,
      "outputs": [
        {
          "output_type": "stream",
          "name": "stdout",
          "text": [
            "[1, 2, 3, 4, 5, 6, 7, 8, 9, 10, 11]\n",
            "[4, 5, 6, 7, 8]\n",
            "[9, 10]\n",
            "[9, 10]\n",
            "[11, 10, 9, 8, 7, 6, 5, 4, 3, 2, 1]\n"
          ]
        }
      ]
    },
    {
      "cell_type": "code",
      "metadata": {
        "colab": {
          "base_uri": "https://localhost:8080/"
        },
        "id": "uUMNqDdbPs4K",
        "outputId": "f3c7d9cd-4474-4da1-c282-24bac6ec7a5a"
      },
      "source": [
        "# crear una lista con un generador\n",
        "numeros = [x*3 for x in range(101)]\n",
        "print(numeros)\n",
        "numeros = [x for x in range(101)]\n",
        "print(numeros)\n",
        "numeros = [x for x in range(1001)]\n",
        "print(numeros)\n",
        "numeros = [x for x in range(50, 101)]\n",
        "print(numeros)\n",
        "numeros = [x for x in range(50, 101, 5)]\n",
        "print(numeros)"
      ],
      "execution_count": null,
      "outputs": [
        {
          "output_type": "stream",
          "name": "stdout",
          "text": [
            "[0, 3, 6, 9, 12, 15, 18, 21, 24, 27, 30, 33, 36, 39, 42, 45, 48, 51, 54, 57, 60, 63, 66, 69, 72, 75, 78, 81, 84, 87, 90, 93, 96, 99, 102, 105, 108, 111, 114, 117, 120, 123, 126, 129, 132, 135, 138, 141, 144, 147, 150, 153, 156, 159, 162, 165, 168, 171, 174, 177, 180, 183, 186, 189, 192, 195, 198, 201, 204, 207, 210, 213, 216, 219, 222, 225, 228, 231, 234, 237, 240, 243, 246, 249, 252, 255, 258, 261, 264, 267, 270, 273, 276, 279, 282, 285, 288, 291, 294, 297, 300]\n",
            "[0, 1, 2, 3, 4, 5, 6, 7, 8, 9, 10, 11, 12, 13, 14, 15, 16, 17, 18, 19, 20, 21, 22, 23, 24, 25, 26, 27, 28, 29, 30, 31, 32, 33, 34, 35, 36, 37, 38, 39, 40, 41, 42, 43, 44, 45, 46, 47, 48, 49, 50, 51, 52, 53, 54, 55, 56, 57, 58, 59, 60, 61, 62, 63, 64, 65, 66, 67, 68, 69, 70, 71, 72, 73, 74, 75, 76, 77, 78, 79, 80, 81, 82, 83, 84, 85, 86, 87, 88, 89, 90, 91, 92, 93, 94, 95, 96, 97, 98, 99, 100]\n",
            "[0, 1, 2, 3, 4, 5, 6, 7, 8, 9, 10, 11, 12, 13, 14, 15, 16, 17, 18, 19, 20, 21, 22, 23, 24, 25, 26, 27, 28, 29, 30, 31, 32, 33, 34, 35, 36, 37, 38, 39, 40, 41, 42, 43, 44, 45, 46, 47, 48, 49, 50, 51, 52, 53, 54, 55, 56, 57, 58, 59, 60, 61, 62, 63, 64, 65, 66, 67, 68, 69, 70, 71, 72, 73, 74, 75, 76, 77, 78, 79, 80, 81, 82, 83, 84, 85, 86, 87, 88, 89, 90, 91, 92, 93, 94, 95, 96, 97, 98, 99, 100, 101, 102, 103, 104, 105, 106, 107, 108, 109, 110, 111, 112, 113, 114, 115, 116, 117, 118, 119, 120, 121, 122, 123, 124, 125, 126, 127, 128, 129, 130, 131, 132, 133, 134, 135, 136, 137, 138, 139, 140, 141, 142, 143, 144, 145, 146, 147, 148, 149, 150, 151, 152, 153, 154, 155, 156, 157, 158, 159, 160, 161, 162, 163, 164, 165, 166, 167, 168, 169, 170, 171, 172, 173, 174, 175, 176, 177, 178, 179, 180, 181, 182, 183, 184, 185, 186, 187, 188, 189, 190, 191, 192, 193, 194, 195, 196, 197, 198, 199, 200, 201, 202, 203, 204, 205, 206, 207, 208, 209, 210, 211, 212, 213, 214, 215, 216, 217, 218, 219, 220, 221, 222, 223, 224, 225, 226, 227, 228, 229, 230, 231, 232, 233, 234, 235, 236, 237, 238, 239, 240, 241, 242, 243, 244, 245, 246, 247, 248, 249, 250, 251, 252, 253, 254, 255, 256, 257, 258, 259, 260, 261, 262, 263, 264, 265, 266, 267, 268, 269, 270, 271, 272, 273, 274, 275, 276, 277, 278, 279, 280, 281, 282, 283, 284, 285, 286, 287, 288, 289, 290, 291, 292, 293, 294, 295, 296, 297, 298, 299, 300, 301, 302, 303, 304, 305, 306, 307, 308, 309, 310, 311, 312, 313, 314, 315, 316, 317, 318, 319, 320, 321, 322, 323, 324, 325, 326, 327, 328, 329, 330, 331, 332, 333, 334, 335, 336, 337, 338, 339, 340, 341, 342, 343, 344, 345, 346, 347, 348, 349, 350, 351, 352, 353, 354, 355, 356, 357, 358, 359, 360, 361, 362, 363, 364, 365, 366, 367, 368, 369, 370, 371, 372, 373, 374, 375, 376, 377, 378, 379, 380, 381, 382, 383, 384, 385, 386, 387, 388, 389, 390, 391, 392, 393, 394, 395, 396, 397, 398, 399, 400, 401, 402, 403, 404, 405, 406, 407, 408, 409, 410, 411, 412, 413, 414, 415, 416, 417, 418, 419, 420, 421, 422, 423, 424, 425, 426, 427, 428, 429, 430, 431, 432, 433, 434, 435, 436, 437, 438, 439, 440, 441, 442, 443, 444, 445, 446, 447, 448, 449, 450, 451, 452, 453, 454, 455, 456, 457, 458, 459, 460, 461, 462, 463, 464, 465, 466, 467, 468, 469, 470, 471, 472, 473, 474, 475, 476, 477, 478, 479, 480, 481, 482, 483, 484, 485, 486, 487, 488, 489, 490, 491, 492, 493, 494, 495, 496, 497, 498, 499, 500, 501, 502, 503, 504, 505, 506, 507, 508, 509, 510, 511, 512, 513, 514, 515, 516, 517, 518, 519, 520, 521, 522, 523, 524, 525, 526, 527, 528, 529, 530, 531, 532, 533, 534, 535, 536, 537, 538, 539, 540, 541, 542, 543, 544, 545, 546, 547, 548, 549, 550, 551, 552, 553, 554, 555, 556, 557, 558, 559, 560, 561, 562, 563, 564, 565, 566, 567, 568, 569, 570, 571, 572, 573, 574, 575, 576, 577, 578, 579, 580, 581, 582, 583, 584, 585, 586, 587, 588, 589, 590, 591, 592, 593, 594, 595, 596, 597, 598, 599, 600, 601, 602, 603, 604, 605, 606, 607, 608, 609, 610, 611, 612, 613, 614, 615, 616, 617, 618, 619, 620, 621, 622, 623, 624, 625, 626, 627, 628, 629, 630, 631, 632, 633, 634, 635, 636, 637, 638, 639, 640, 641, 642, 643, 644, 645, 646, 647, 648, 649, 650, 651, 652, 653, 654, 655, 656, 657, 658, 659, 660, 661, 662, 663, 664, 665, 666, 667, 668, 669, 670, 671, 672, 673, 674, 675, 676, 677, 678, 679, 680, 681, 682, 683, 684, 685, 686, 687, 688, 689, 690, 691, 692, 693, 694, 695, 696, 697, 698, 699, 700, 701, 702, 703, 704, 705, 706, 707, 708, 709, 710, 711, 712, 713, 714, 715, 716, 717, 718, 719, 720, 721, 722, 723, 724, 725, 726, 727, 728, 729, 730, 731, 732, 733, 734, 735, 736, 737, 738, 739, 740, 741, 742, 743, 744, 745, 746, 747, 748, 749, 750, 751, 752, 753, 754, 755, 756, 757, 758, 759, 760, 761, 762, 763, 764, 765, 766, 767, 768, 769, 770, 771, 772, 773, 774, 775, 776, 777, 778, 779, 780, 781, 782, 783, 784, 785, 786, 787, 788, 789, 790, 791, 792, 793, 794, 795, 796, 797, 798, 799, 800, 801, 802, 803, 804, 805, 806, 807, 808, 809, 810, 811, 812, 813, 814, 815, 816, 817, 818, 819, 820, 821, 822, 823, 824, 825, 826, 827, 828, 829, 830, 831, 832, 833, 834, 835, 836, 837, 838, 839, 840, 841, 842, 843, 844, 845, 846, 847, 848, 849, 850, 851, 852, 853, 854, 855, 856, 857, 858, 859, 860, 861, 862, 863, 864, 865, 866, 867, 868, 869, 870, 871, 872, 873, 874, 875, 876, 877, 878, 879, 880, 881, 882, 883, 884, 885, 886, 887, 888, 889, 890, 891, 892, 893, 894, 895, 896, 897, 898, 899, 900, 901, 902, 903, 904, 905, 906, 907, 908, 909, 910, 911, 912, 913, 914, 915, 916, 917, 918, 919, 920, 921, 922, 923, 924, 925, 926, 927, 928, 929, 930, 931, 932, 933, 934, 935, 936, 937, 938, 939, 940, 941, 942, 943, 944, 945, 946, 947, 948, 949, 950, 951, 952, 953, 954, 955, 956, 957, 958, 959, 960, 961, 962, 963, 964, 965, 966, 967, 968, 969, 970, 971, 972, 973, 974, 975, 976, 977, 978, 979, 980, 981, 982, 983, 984, 985, 986, 987, 988, 989, 990, 991, 992, 993, 994, 995, 996, 997, 998, 999, 1000]\n",
            "[50, 51, 52, 53, 54, 55, 56, 57, 58, 59, 60, 61, 62, 63, 64, 65, 66, 67, 68, 69, 70, 71, 72, 73, 74, 75, 76, 77, 78, 79, 80, 81, 82, 83, 84, 85, 86, 87, 88, 89, 90, 91, 92, 93, 94, 95, 96, 97, 98, 99, 100]\n",
            "[50, 55, 60, 65, 70, 75, 80, 85, 90, 95, 100]\n"
          ]
        }
      ]
    },
    {
      "cell_type": "markdown",
      "metadata": {
        "id": "ZW2YUHI_QZYu"
      },
      "source": [
        "# función range()\n",
        "\n",
        "tiene los mismo componentes que slicing\n",
        "inicio, stop, incremento\n",
        "range(1, 101, 1)"
      ]
    },
    {
      "cell_type": "markdown",
      "metadata": {
        "id": "jlioU8W-RJ1g"
      },
      "source": [
        "#metodos disponibles de las listas\n"
      ]
    },
    {
      "cell_type": "code",
      "metadata": {
        "colab": {
          "base_uri": "https://localhost:8080/"
        },
        "id": "Ac9jaaj4ROVx",
        "outputId": "92810453-608c-4778-e9ca-e1cad4793345"
      },
      "source": [
        "dir(list)"
      ],
      "execution_count": null,
      "outputs": [
        {
          "output_type": "execute_result",
          "data": {
            "text/plain": [
              "['__add__',\n",
              " '__class__',\n",
              " '__contains__',\n",
              " '__delattr__',\n",
              " '__delitem__',\n",
              " '__dir__',\n",
              " '__doc__',\n",
              " '__eq__',\n",
              " '__format__',\n",
              " '__ge__',\n",
              " '__getattribute__',\n",
              " '__getitem__',\n",
              " '__gt__',\n",
              " '__hash__',\n",
              " '__iadd__',\n",
              " '__imul__',\n",
              " '__init__',\n",
              " '__init_subclass__',\n",
              " '__iter__',\n",
              " '__le__',\n",
              " '__len__',\n",
              " '__lt__',\n",
              " '__mul__',\n",
              " '__ne__',\n",
              " '__new__',\n",
              " '__reduce__',\n",
              " '__reduce_ex__',\n",
              " '__repr__',\n",
              " '__reversed__',\n",
              " '__rmul__',\n",
              " '__setattr__',\n",
              " '__setitem__',\n",
              " '__sizeof__',\n",
              " '__str__',\n",
              " '__subclasshook__',\n",
              " 'append',\n",
              " 'clear',\n",
              " 'copy',\n",
              " 'count',\n",
              " 'extend',\n",
              " 'index',\n",
              " 'insert',\n",
              " 'pop',\n",
              " 'remove',\n",
              " 'reverse',\n",
              " 'sort']"
            ]
          },
          "metadata": {},
          "execution_count": 39
        }
      ]
    },
    {
      "cell_type": "code",
      "metadata": {
        "colab": {
          "base_uri": "https://localhost:8080/"
        },
        "id": "JJeAuAB0SdBW",
        "outputId": "673940b0-33b8-4a47-f4ce-512675375b22"
      },
      "source": [
        "numeros = [ 4, 1, 15, 8, 22, 72, 28]\n",
        "print(numeros)\n",
        "numeros.append(99)\n",
        "print(numeros)\n",
        "#numeros.clear()\n",
        "#alternativa\n",
        "numeros = []\n",
        "\n",
        "frutas = [\"uvas\", \"kiwi\", \"manzana\"]\n",
        "copia = frutas\n",
        "print( frutas )\n",
        "print( copia )\n",
        "frutas.append(\"fresa\")\n",
        "print( frutas )\n",
        "print( copia ) #copia de referencia\n",
        "\n",
        "\n",
        "colores = [\"rojo\", \"azul\", \"verde\"]\n",
        "copia2 = colores.copy()\n",
        "print( colores )\n",
        "print( copia2 )\n",
        "colores.append(\"cafe\")\n",
        "print( colores )\n",
        "print( copia2 )\n",
        "numeros = [ 4, 1, 15, 8, 22, 72, 28]\n",
        "print(numeros)\n",
        "\n",
        "\n",
        "numeros.append(99)\n",
        "print(\"Numero de veces que aprece el 72=\", numeros.count(72))\n",
        "\n",
        "#estend\n",
        "nombres = [\"Jose\", \"pedro\", \"jesus\"]\n",
        "otrosNombres = [\"Josue\", \"diana\", \"dennis\"]\n",
        "print(nombres)\n",
        "print(otrosNombres)\n",
        "nombres = nombres + otrosNombres\n",
        "print(nombres)\n",
        "print(otrosNombres)\n",
        "\n",
        "#lo mismo con el método extend\n",
        "otrosNombres.extend([\"Jesus\", \"Maria\", \"Jose\"])\n",
        "print(otrosNombres)\n",
        "print(\"Jesus esta en la posicion: \", otrosNombres.index(\"Jesus\"))\n",
        "otrosNombres.insert(5, \"Espiritu santo\")\n",
        "print(otrosNombres) #insertar en una posicion especifica\n",
        "\n",
        "# pop\n",
        "resultado = otrosNombres.pop()\n",
        "print(otrosNombres)\n",
        "print(resultado)\n"
      ],
      "execution_count": null,
      "outputs": [
        {
          "output_type": "stream",
          "name": "stdout",
          "text": [
            "[4, 1, 15, 8, 22, 72, 28]\n",
            "[4, 1, 15, 8, 22, 72, 28, 99]\n",
            "['uvas', 'kiwi', 'manzana']\n",
            "['uvas', 'kiwi', 'manzana']\n",
            "['uvas', 'kiwi', 'manzana', 'fresa']\n",
            "['uvas', 'kiwi', 'manzana', 'fresa']\n",
            "['rojo', 'azul', 'verde']\n",
            "['rojo', 'azul', 'verde']\n",
            "['rojo', 'azul', 'verde', 'cafe']\n",
            "['rojo', 'azul', 'verde']\n",
            "[4, 1, 15, 8, 22, 72, 28]\n",
            "Numero de veces que aprece el 72= 1\n",
            "['Jose', 'pedro', 'jesus']\n",
            "['Josue', 'diana', 'dennis']\n",
            "['Jose', 'pedro', 'jesus', 'Josue', 'diana', 'dennis']\n",
            "['Josue', 'diana', 'dennis']\n",
            "['Josue', 'diana', 'dennis', 'Jesus', 'Maria', 'Jose']\n",
            "Jesus esta en la posicion:  3\n",
            "['Josue', 'diana', 'dennis', 'Jesus', 'Maria', 'Espiritu santo', 'Jose']\n",
            "['Josue', 'diana', 'dennis', 'Jesus', 'Maria', 'Espiritu santo']\n",
            "Jose\n"
          ]
        }
      ]
    },
    {
      "cell_type": "markdown",
      "metadata": {
        "id": "_u8EZI4TwAly"
      },
      "source": [
        "#Tuplas\n",
        "\n",
        "### Carateríticas de las ruplas\n",
        "- Datos agrupados.\n",
        "- Se declara usando#\n",
        "     - ()\n",
        "     - tuple()\n",
        "-Estructura secuencials, indexada apartir de 0.\n",
        "- Pueden tener 0 a n elemnetos.\n",
        "- No son mutables (no se puede: eliminar y/o cambiar).\n",
        "- Son buena spara almacenar información de consulta. \n",
        "- Pueden almacenar información de diferentes tipos de datos.\n",
        "- Pueden estar anidadas.\n",
        "- Tienen metodos útiles"
      ]
    },
    {
      "cell_type": "code",
      "metadata": {
        "colab": {
          "base_uri": "https://localhost:8080/"
        },
        "id": "MEGhntXlwxZk",
        "outputId": "8ffb4908-e780-4ef4-c811-4567422b6932"
      },
      "source": [
        "info =(\"Adriana45\", \"Nequiz67\", \"123.232.1.12\" )\n",
        "print( info )\n",
        "print( info[ 1 ] )\n",
        "#info [ 1 ]= \"patio23\"\n",
        "\n",
        "numeros = (0, 1, 2, 3, 4, 5, 6, 7, 8, 9, 10, 11, 12, 13, 14, 15)\n",
        "print(numeros)\n",
        "print(numeros[5:11])#solo sirve de consulta la información, no se puede modificar\n",
        "\n",
        "cosas = ( info , numeros )\n",
        "print( cosas )\n",
        "print( cosas [1][5:11])\n",
        "print( cosas [0][2][4:7])\n",
        "print( cosas [0][2][-8:-5]) #indexado negativo"
      ],
      "execution_count": null,
      "outputs": [
        {
          "output_type": "stream",
          "name": "stdout",
          "text": [
            "('Adriana45', 'Nequiz67', '123.232.1.12')\n",
            "Nequiz67\n",
            "(0, 1, 2, 3, 4, 5, 6, 7, 8, 9, 10, 11, 12, 13, 14, 15)\n",
            "(5, 6, 7, 8, 9, 10)\n",
            "(('Adriana45', 'Nequiz67', '123.232.1.12'), (0, 1, 2, 3, 4, 5, 6, 7, 8, 9, 10, 11, 12, 13, 14, 15))\n",
            "(5, 6, 7, 8, 9, 10)\n",
            "232\n",
            "232\n"
          ]
        }
      ]
    },
    {
      "cell_type": "markdown",
      "metadata": {
        "id": "k9yGDdd20mSv"
      },
      "source": [
        "# metodos de las tuplas\n",
        "Son los mismos de las listas pero que no involucren la mutabilidad."
      ]
    },
    {
      "cell_type": "code",
      "metadata": {
        "colab": {
          "base_uri": "https://localhost:8080/"
        },
        "id": "xAsLrBng0wxt",
        "outputId": "24a8f17b-7285-4429-8cac-2733ee9ceecb"
      },
      "source": [
        "dir(tuple)"
      ],
      "execution_count": null,
      "outputs": [
        {
          "output_type": "execute_result",
          "data": {
            "text/plain": [
              "['__add__',\n",
              " '__class__',\n",
              " '__contains__',\n",
              " '__delattr__',\n",
              " '__dir__',\n",
              " '__doc__',\n",
              " '__eq__',\n",
              " '__format__',\n",
              " '__ge__',\n",
              " '__getattribute__',\n",
              " '__getitem__',\n",
              " '__getnewargs__',\n",
              " '__gt__',\n",
              " '__hash__',\n",
              " '__init__',\n",
              " '__init_subclass__',\n",
              " '__iter__',\n",
              " '__le__',\n",
              " '__len__',\n",
              " '__lt__',\n",
              " '__mul__',\n",
              " '__ne__',\n",
              " '__new__',\n",
              " '__reduce__',\n",
              " '__reduce_ex__',\n",
              " '__repr__',\n",
              " '__rmul__',\n",
              " '__setattr__',\n",
              " '__sizeof__',\n",
              " '__str__',\n",
              " '__subclasshook__',\n",
              " 'count',\n",
              " 'index']"
            ]
          },
          "metadata": {},
          "execution_count": 22
        }
      ]
    },
    {
      "cell_type": "markdown",
      "metadata": {
        "id": "APYvcJp-2vui"
      },
      "source": [
        "# Diccionario\n",
        "### Caracteristicas de los diccionarios\n",
        "\n",
        "- Agrupan datos pero de forma no lineal.\n",
        "-Se declaran con#\n",
        "      - {}\n",
        "      - dict()\n",
        "- Formato por partes del tipo de llave: valor, donde:\n",
        "      - llave es de tipo String(siempre)\n",
        "      - valor puede ser de cualquier tipo de datos, incluyendo los diccionarios.\n",
        "- Se selecionan con la llave de la forma: [\"id_llave\"]\n",
        "- Son mutables\n",
        "- Son equivalentes al tipo de dato JSON del lenguaje  JavaScript(JS)"
      ]
    },
    {
      "cell_type": "code",
      "metadata": {
        "colab": {
          "base_uri": "https://localhost:8080/"
        },
        "id": "2sQqTx5U4kDh",
        "outputId": "160c4316-784b-4e38-89f4-4d2167626c0c"
      },
      "source": [
        "alumno = {\"nombre\" : \"Adriana\"}\n",
        "print(alumno)\n",
        "print(alumno[\"nombre\"])\n",
        "alumno = {\"nombre\": \"Adriana\", \"nc\":\"3190263000\",\"edad\":18 }\n",
        "print(\"Edad del alumno = \", alumno[\"edad\"])\n",
        "print(alumno[\"nombre\"].upper())\n",
        "\n",
        "\n",
        "alumno2 = dict()#{}\n",
        "alumno2[\"nombre\"] = \"Adriana\"\n",
        "print(alumno2)\n",
        "alumno2[\"nc\"] =\"3190263000\"\n",
        "alumno2[\"edad\"] = 18\n",
        "print(alumno2)\n",
        "alumno2[\"edad\"] = alumno2[\"edad\"] + 1\n",
        "print(alumno2)"
      ],
      "execution_count": null,
      "outputs": [
        {
          "output_type": "stream",
          "name": "stdout",
          "text": [
            "{'nombre': 'Adriana'}\n",
            "Adriana\n",
            "Edad del alumno =  18\n",
            "ADRIANA\n",
            "{'nombre': 'Adriana'}\n",
            "{'nombre': 'Adriana', 'nc': '3190263000', 'edad': 18}\n",
            "{'nombre': 'Adriana', 'nc': '3190263000', 'edad': 19}\n"
          ]
        }
      ]
    },
    {
      "cell_type": "code",
      "metadata": {
        "colab": {
          "base_uri": "https://localhost:8080/"
        },
        "id": "Vz-DL0Wb8RMz",
        "outputId": "403c793b-6ce0-4906-9f3f-b780d1cef70f"
      },
      "source": [
        "cliente ={ \"id\":\"CT2121\", #diccionario\n",
        "          \"nombre\":\"Adriana\", \n",
        "          \"Telefonos\":\"cel=5526181819 casa=15585776\"}\n",
        "print(cliente)\n",
        "cliente ={ \"id\":\"CT2121\",\n",
        "          \"nombre\":{\n",
        "              \"nombre_pila\" : [\"Adriana\"],\n",
        "              \"paterno\" : \"Nequiz\", \n",
        "              \"materno\" : \"Gonzalez\"\n",
        "          }, \n",
        "          \"Telefonos\":{\n",
        "              \"casa\" : \"15585776\", \n",
        "              \"celular\" : \"5527292918\",\n",
        "              \"trabajo\" : \"04416572934\"\n",
        "          }, \n",
        "          \"productos\":{\n",
        "              \"Ahorros\":{\"num_cuenta\":\"7790\", \"Ahorros\":3500.7 },\n",
        "              \"Tarjetas\":[\n",
        "                           {\"tipo\":\"debito\", \"saldo\": 10000.5},\n",
        "                           {\"tipo\":\"creditopreferente\", \"limite\": 250000.80},\n",
        "                           {\"tipo\":\"lite\", \"limite\": 15000.5}\n",
        "              ], \n",
        "               }, \n",
        "          \"direccion\":{\n",
        "                  \"calle\":\"av.central\",\n",
        "                  \"numero\": 14,\n",
        "                  \"colonia\": \"impulsora\",\n",
        "                  \"delegacion\": \"neza\",\n",
        "                  \"estado\": {\n",
        "                      \"clave\": 15,\n",
        "                      \"nombre_corto\":\"Edomex\",\n",
        "                      \"nombre\":\"Estado de Mexico\"\n",
        "                  }\n",
        "              }\n",
        "          }\n",
        "           \n",
        "print( cliente[\"productos\"][\"Ahorros\"][\"Ahorros\"] )\n",
        "print(cliente)\n",
        "print( cliente[\"productos\"][\"Tarjetas\"][-1][\"limite\"] )\n",
        "print(cliente[\"direccion\"][\"estado\"][\"nombre\"].upper())\n",
        "cliente[\"productos\"][\"Ahorros\"][\"Ahorros\"] = cliente [\"productos\"][\"Ahorros\"][\"Ahorros\"]- 1500\n",
        "print(cliente[\"productos\"][\"Ahorros\"][\"Ahorros\"])"
      ],
      "execution_count": null,
      "outputs": [
        {
          "output_type": "stream",
          "name": "stdout",
          "text": [
            "{'id': 'CT2121', 'nombre': 'Adriana', 'Telefonos': 'cel=5526181819 casa=15585776'}\n",
            "3500.7\n",
            "{'id': 'CT2121', 'nombre': {'nombre_pila': ['Adriana'], 'paterno': 'Nequiz', 'materno': 'Gonzalez'}, 'Telefonos': {'casa': '15585776', 'celular': '5527292918', 'trabajo': '04416572934'}, 'productos': {'Ahorros': {'num_cuenta': '7790', 'Ahorros': 3500.7}, 'Tarjetas': [{'tipo': 'debito', 'saldo': 10000.5}, {'tipo': 'creditopreferente', 'limite': 250000.8}, {'tipo': 'lite', 'limite': 15000.5}]}, 'direccion': {'calle': 'av.central', 'numero': 14, 'colonia': 'impulsora', 'delegacion': 'neza', 'estado': {'clave': 15, 'nombre_corto': 'Edomex', 'nombre': 'Estado de Mexico'}}}\n",
            "15000.5\n",
            "ESTADO DE MEXICO\n",
            "2000.6999999999998\n"
          ]
        }
      ]
    },
    {
      "cell_type": "code",
      "metadata": {
        "colab": {
          "base_uri": "https://localhost:8080/"
        },
        "id": "WeM5vESsJLw7",
        "outputId": "12a15067-a529-4941-e12a-f13d78731bf1"
      },
      "source": [
        "# Ejercicio con una pelicula\n",
        "Resplandor ={ \"Director\":\"Stanley Kubrik\",\n",
        "          \"Secuelas\":{\n",
        "              \"secuela 1\" : [\"Habitacion 237\"],\n",
        "              \"secuela 2\" : \"Doctor sueño\"  \n",
        "          }, \n",
        "          \"premios\":{\n",
        "              \"1981\" : \"Premio saturn al mejor actor de reparto\", \n",
        "              \"2012\" : \"Premio saturn a la mejor cpleccion de peliculas en DVD\",\n",
        "          }, \n",
        "          \"Reparto\":{\n",
        "              \"Protagonistas\":{\n",
        "              \"Wendy Torrance\":\"Shelley Duvall\",\n",
        "              \"Jack Nicholson\": \"Jack Torrance\",\n",
        "              \"Jack Nicholson\": \"Jack Torrance\",\n",
        "               }\n",
        "               }, \n",
        "          \"Datos\":{\n",
        "                  \"País\":\"Reino Unido\",\n",
        "                  \"Año\": 1980,\n",
        "                  \"Genero\": \"Drama y Terror\",\n",
        "                  \"Idioma\": \"Ingles\",\n",
        "                  \"compañias\": {\n",
        "                      \"productora\": \"\tWarner Bros. Pictures y Hawk Films\",\n",
        "                      \"Distribución\":\"Warner Bros. Pictures\",\n",
        "                  }\n",
        "              }\n",
        "          }\n",
        "print( Resplandor ) \n",
        "print( Resplandor[\"premios\"][\"1981\"] )\n"
      ],
      "execution_count": null,
      "outputs": [
        {
          "output_type": "stream",
          "name": "stdout",
          "text": [
            "{'Director': 'Stanley Kubrik', 'Secuelas': {'secuela 1': ['Habitacion 237'], 'secuela 2': 'Doctor sueño'}, 'premios': {'1981': 'Premio saturn al mejor actor de reparto', '2012': 'Premio saturn a la mejor cpleccion de peliculas en DVD'}, 'Reparto': {'Protagonistas': {'Wendy Torrance': 'Shelley Duvall', 'Jack Nicholson': 'Jack Torrance'}}, 'Datos': {'País': 'Reino Unido', 'Año': 1980, 'Genero': 'Drama y Terror', 'Idioma': 'Ingles', 'compañias': {'productora': '\\tWarner Bros. Pictures y Hawk Films', 'Distribución': 'Warner Bros. Pictures'}}}\n",
            "Premio saturn al mejor actor de reparto\n"
          ]
        }
      ]
    },
    {
      "cell_type": "markdown",
      "metadata": {
        "id": "RUT6DSgUNbo7"
      },
      "source": [
        "# Estructura de control de programación\n",
        " Se puede crear cualquier tipo de algoritmo emplado solamnete 3 estructuras de control:\n",
        "1. secuencia#\n",
        "       - La representación de la memoria de programa (Arquitectura Vonn Newman)\n",
        "2. Selección :\n",
        "      - Es la estructura de control que decide si un bloque de programa se ejecuta o no se ejecuta. Tmabién permite seleccionar ejecutar un bloque entre un conjunto de opciones.\n",
        "      En resumen tenemos: Selección simple, selección con bifurcación y selección múltiple\n",
        "3. Repetición\n",
        "     - Este tipo de estructura nos permite automatizar la ejecución repetitiva del código mientras ciertas condiciones se cumplan, tenemos 3 variantes de esta estructura en todos los lenguajes de programación:\n",
        "     - Desde...Hasta (estructura for)\n",
        "     - Haz mientras(estructura while)\n",
        "     - Haz y luego valida mientras (estructura Do-While)"
      ]
    },
    {
      "cell_type": "code",
      "metadata": {
        "colab": {
          "base_uri": "https://localhost:8080/"
        },
        "id": "uRd-prZFPm71",
        "outputId": "10868891-7a06-4455-d79b-f20e591e48d0"
      },
      "source": [
        "# Estructura simple\n",
        "#Estructura if <condicion> :\n",
        "#< cuerpo de IF>\n",
        "# \n",
        "edad = int( input(\"Dame tu edad:\") )\n",
        "print(f\"Tecleaste {edad} años\")\n",
        "if edad >= 18 :\n",
        "   print(\" Eres mayor de edad\") # tiene que ser con tabulador al inicio de cualquier estruc.\n",
        "   print(\"Algo\")\n",
        "print(\"Otra cosa\")\n",
        "print(\"Fin del programa\")\n"
      ],
      "execution_count": null,
      "outputs": [
        {
          "output_type": "stream",
          "name": "stdout",
          "text": [
            "Dame tu edad:16\n",
            "Tecleaste 16 años\n",
            "Otra cosa\n",
            "Fin del programa\n"
          ]
        }
      ]
    },
    {
      "cell_type": "markdown",
      "metadata": {
        "id": "9XbFyhOiTmfQ"
      },
      "source": [
        "**Nota** Para establecer el cuerpo  de una estructura de control en python se usan los tabuladores a la izq.\n",
        "\n",
        "En otros lenguejas de programación como java, c y c++... se usan las llaves {}\n",
        "````\n",
        "int edad =0;\n",
        "printf(\"dame tu edad\");\n",
        "scanf(\"%i\", &edad);\n",
        "if(edad >=18 {\n",
        "}\n",
        "printf(\"fin del programa\")\n",
        "````"
      ]
    },
    {
      "cell_type": "code",
      "metadata": {
        "colab": {
          "base_uri": "https://localhost:8080/"
        },
        "id": "QDBPRF31Wgi1",
        "outputId": "b8b0925f-5e40-4fd7-81df-8e71da466478"
      },
      "source": [
        "CAL= float( input(\"Dame tu calificación:\") )\n",
        "if CAL > 8 :\n",
        "   print(\" Aprobado\") \n",
        "print(\"Fin\")"
      ],
      "execution_count": null,
      "outputs": [
        {
          "output_type": "stream",
          "name": "stdout",
          "text": [
            "Dame tu calificación:8.001\n",
            " Aprobado\n",
            "Fin\n"
          ]
        }
      ]
    },
    {
      "cell_type": "code",
      "metadata": {
        "colab": {
          "base_uri": "https://localhost:8080/"
        },
        "id": "JFZbz5qTXCfd",
        "outputId": "45d0cc40-980e-439e-a795-19399b0979cd"
      },
      "source": [
        "SUE = float( input(\"Dame tu sueldo:\") )\n",
        "if SUE < 1000 :\n",
        "  AUM = SUE* 0.15\n",
        "  NSUE = SUE + AUM\n",
        "  print(NSUE) \n",
        "print(\"Fin\")"
      ],
      "execution_count": null,
      "outputs": [
        {
          "output_type": "stream",
          "name": "stdout",
          "text": [
            "Dame tu sueldo:875.50\n",
            "1006.825\n",
            "Fin\n"
          ]
        }
      ]
    },
    {
      "cell_type": "markdown",
      "metadata": {
        "id": "7siRTU4mGqOi"
      },
      "source": [
        "# Estructura de selección con bifurcación (if else)\n",
        "\n",
        "Esta estructura, selecciona una de 2 opcines de ejecución, se ejecuta un bloque si la condicion se cumple o se ejecuta otro bloque se la condicion no se cumple(else)\n",
        "```\n",
        "if <condition> :\n",
        "  <bloque de ejecución>\n",
        "else:\n",
        "    <bloque de ejecución alterno>\n",
        "```"
      ]
    },
    {
      "cell_type": "code",
      "metadata": {
        "colab": {
          "base_uri": "https://localhost:8080/"
        },
        "id": "a31eUkrqHfui",
        "outputId": "0631d7a5-28a5-46dd-b6d6-7d786c5500c0"
      },
      "source": [
        "edad = int(input(\"Dame tu edad:\"))\n",
        "print(f\"Tecleaste {edad} años\")\n",
        "if edad >= 18:\n",
        "   print(\"Eres mayor de edad, ten tu cheve\") \n",
        "else:\n",
        "    print(\"No eres mayor de edad, ten tu boing\")\n",
        "print(\"fin del programa\")"
      ],
      "execution_count": 6,
      "outputs": [
        {
          "output_type": "stream",
          "name": "stdout",
          "text": [
            "Dame tu edad:16\n",
            "Tecleaste 16 años\n",
            "No eres mayor de edad, ten tu boing\n",
            "fin del programa\n"
          ]
        }
      ]
    },
    {
      "cell_type": "code",
      "metadata": {
        "colab": {
          "base_uri": "https://localhost:8080/"
        },
        "id": "9Bime3XFJOgz",
        "outputId": "44bd245a-d4cf-412d-a64e-7a4ba4186287"
      },
      "source": [
        "edad = int(input(\"Dame tu edad:\"))\n",
        "dinero = int(input(\"Dame tu cantidad de dinero:\"))\n",
        "print(f\"Tecleaste {edad} años\")\n",
        "print(f\"Tecleaste {dinero} pesos\")\n",
        "if edad >= 18:\n",
        "   print(\"Eres mayor de edad\") \n",
        "else:\n",
        "    print(\"No eres mayor de edad\")\n",
        "if dinero >= 36:\n",
        "   print(\"Tienes dinero suficiente, ten tu cheve\") \n",
        "else:\n",
        "    print(\"No no tienes suficiente, compra otra cosa\")\n",
        "print(\"fin del programa\")\n",
        "# elif para acortar o simplificar "
      ],
      "execution_count": null,
      "outputs": [
        {
          "output_type": "stream",
          "name": "stdout",
          "text": [
            "Dame tu edad:18\n",
            "Dame tu cantidad de dinero:50\n",
            "Tecleaste 18 años\n",
            "Tecleaste 50 años\n",
            "Eres mayor de edad\n",
            "Tienes dinero suficiente, ten tu cheve\n",
            "fin del programa\n"
          ]
        }
      ]
    },
    {
      "cell_type": "code",
      "metadata": {
        "colab": {
          "base_uri": "https://localhost:8080/"
        },
        "id": "xQarPdhaKXEy",
        "outputId": "3d7e5332-827b-4ed1-d2ad-1cbaead7b440"
      },
      "source": [
        "edad = int(input(\"Dame tu edad:\"))\n",
        "dinero = int(input(\"Dame tu cantidad de dinero:\"))\n",
        "print(f\"Tecleaste {edad} años\")\n",
        "print(f\"Tecleaste {dinero} pesos\")\n",
        "if edad >= 18:\n",
        "   if dinero >= 36:\n",
        "        print(\"Tienes dinero suficiente y eres mayor de edad, ten tu cheve\") \n",
        "   else:\n",
        "        print(\"No tienes suficiente dinero\") #anidar estructuras\n",
        "else:\n",
        "    print(\"Eres menor de edad, compra otra cosa\")\n",
        "print(\"fin del programa\")"
      ],
      "execution_count": 14,
      "outputs": [
        {
          "output_type": "stream",
          "name": "stdout",
          "text": [
            "Dame tu edad:19\n",
            "Dame tu cantidad de dinero:70\n",
            "Tecleaste 19 años\n",
            "Tecleaste 70 pesos\n",
            "Tienes dinero suficiente y eres mayor de edad, ten tu cheve\n",
            "fin del programa\n"
          ]
        }
      ]
    },
    {
      "cell_type": "code",
      "metadata": {
        "colab": {
          "base_uri": "https://localhost:8080/"
        },
        "id": "6N1ngJrhNQ2w",
        "outputId": "d173ffb3-403b-4706-d18d-e86a413ea002"
      },
      "source": [
        "edad = int(input(\"Dame tu edad: \"))\n",
        "dinero = float(input(\"Cuanto dinero tienes: \"))\n",
        "print(f\"Tecleaste {edad} años\")\n",
        "print(f\"Tecleaste {dinero} dinero\")\n",
        "if edad >= 18 :\n",
        "    if dinero >=36 :\n",
        "        print(\"Ten tu cheve\")\n",
        "    else:\n",
        "        print(\"tienes la edad pero no tienes dinero suficiente\")\n",
        "elif dinero >= 36 :\n",
        "    print(\"Tienes dinero suficiente pero no tienes la edad\")\n",
        "else:\n",
        "    print(\"No tienes la edad ni el dinero, ve a jugar roblox a tu casa\")\n",
        "    # elif para acortar o simplificar "
      ],
      "execution_count": 15,
      "outputs": [
        {
          "output_type": "stream",
          "name": "stdout",
          "text": [
            "Dame tu edad: 19\n",
            "Cuanto dinero tienes: 50\n",
            "Tecleaste 19 años\n",
            "Tecleaste 50.0 dinero\n",
            "Ten tu cheve\n"
          ]
        }
      ]
    },
    {
      "cell_type": "code",
      "metadata": {
        "colab": {
          "base_uri": "https://localhost:8080/"
        },
        "id": "cSucrg_gOmUr",
        "outputId": "ac4586a2-f652-4bc5-eeae-874222db4199"
      },
      "source": [
        "CAL = float(input(\"Dame tu calificación: \"))\n",
        "print(f\"Tecleaste {CAL} de calificación \")\n",
        "if CAL >= 8 :\n",
        "    print(\"Aprobado\")\n",
        "else:\n",
        "        print(\"Reprobado\")\n",
        "print(\"fin del programa\")"
      ],
      "execution_count": 17,
      "outputs": [
        {
          "output_type": "stream",
          "name": "stdout",
          "text": [
            "Dame tu calificación: 9\n",
            "Tecleaste 9.0 \n",
            "Aprobado\n",
            "fin del programa\n"
          ]
        }
      ]
    },
    {
      "cell_type": "code",
      "metadata": {
        "colab": {
          "base_uri": "https://localhost:8080/"
        },
        "id": "Z8N6Sb35PJ3t",
        "outputId": "eba2ba9d-f03f-4a4f-a60e-4e1f902f4549"
      },
      "source": [
        "SUE = float(input(\"Dame tu sueldo: \")) #EJERCICIO \n",
        "print(f\"Tecleaste {SUE} en pesos \")\n",
        "if SUE < 1000 :\n",
        "     AUM = SUE* 0.15\n",
        "     NSUE = SUE + AUM\n",
        "     print(NSUE)\n",
        "else:\n",
        "    AUM= SUE*0.12\n",
        "    NSUE = SUE + AUM\n",
        "    print(NSUE)\n",
        "print(\"fin del programa\")"
      ],
      "execution_count": 28,
      "outputs": [
        {
          "output_type": "stream",
          "name": "stdout",
          "text": [
            "Dame tu sueldo: 1000\n",
            "Tecleaste 1000.0 en pesos \n",
            "1120.0\n",
            "fin del programa\n"
          ]
        }
      ]
    },
    {
      "cell_type": "markdown",
      "metadata": {
        "id": "SDrcMQ2mSGfX"
      },
      "source": [
        "# Ejercicio if-else\n",
        "\n",
        "Hacer un programa que solicite el día de l semana en un valor numerico del 1-7 (avisatle al usuario si proporciono un valor fuera del rango).\n",
        "imprimira el dia de la semana correspondiente al numero capturado"
      ]
    },
    {
      "cell_type": "code",
      "metadata": {
        "colab": {
          "base_uri": "https://localhost:8080/"
        },
        "id": "k01N5AjESCUP",
        "outputId": "340390db-6c36-458a-988f-743bab8fd49d"
      },
      "source": [
        "Dia = float(input(\"Dame el día dentro de la semana: \")) #EJERCICIO \n",
        "print(f\"Tecleaste {Dia} \")\n",
        "if Dia ==1 :\n",
        "     print(\"Hoy es lunes\")\n",
        "elif Dia == 2:\n",
        "    print(\"Hoy es Martes\")\n",
        "elif Dia == 3:\n",
        "    print(\"Hoy es Miercoles\")\n",
        "elif Dia == 4:\n",
        "    print(\"Hoy es Jueves\")\n",
        "elif Dia == 5:\n",
        "    print(\"Hoy es viernes\")\n",
        "elif Dia == 6:\n",
        "    print(\"Hoy es Sabado\")\n",
        "elif Dia == 7:\n",
        "    print(\"Hoy es Domingo\")\n",
        "else:\n",
        "    print(\"Sintaxis error, el numero no esta dentro del 1 y 7\")\n"
      ],
      "execution_count": 37,
      "outputs": [
        {
          "output_type": "stream",
          "name": "stdout",
          "text": [
            "Dame el día dentro de la semana: 15\n",
            "Tecleaste 15.0 \n",
            "Sintaxis error, el numero no esta dentro del 1 y 7\n"
          ]
        }
      ]
    },
    {
      "cell_type": "code",
      "metadata": {
        "colab": {
          "base_uri": "https://localhost:8080/"
        },
        "id": "PqKzXc39UtBJ",
        "outputId": "628bdbfa-f76d-49fa-b365-cce079883f13"
      },
      "source": [
        "dia=int(input(\"Dame el día de la semana del 1-7: \"))\n",
        "if dia is 1:\n",
        "    print(\"LUNES\")\n",
        "elif dia is 2:\n",
        "    print(\"MARTES\")\n",
        "elif dia is 3:\n",
        "    print(\"MIERCOLES\")\n",
        "elif dia is 4:\n",
        "    print(\"JUEVES\")\n",
        "elif dia is 5:\n",
        "    print(\"VIERNES\")\n",
        "elif dia is 6:\n",
        "    print(\"SÁBADO\")\n",
        "elif dia is 7:\n",
        "    print(\"DOMINGO\")\n",
        "else:\n",
        "    print(\"Debe ser un numero del 1 al 7, ingresa nuevamente\")"
      ],
      "execution_count": 35,
      "outputs": [
        {
          "output_type": "stream",
          "name": "stdout",
          "text": [
            "Dame el día de la semana del 1-7: 7\n",
            "DOMINGO\n"
          ]
        }
      ]
    },
    {
      "cell_type": "code",
      "metadata": {
        "colab": {
          "base_uri": "https://localhost:8080/"
        },
        "id": "WKlMtcT-VjXk",
        "outputId": "b3d897cf-6aa2-4778-91cc-c6e961a6dd91"
      },
      "source": [
        "dia = int(input(\"Ingresa un numero entre el 1 y 7: \"))\n",
        "print(f\"capturaste el numero: { dia }\")\n",
        "\n",
        "if dia >=1 and dia <= 7:\n",
        "    if dia == 1:\n",
        "        print(\"Lunes\")\n",
        "    else:\n",
        "        if dia == 2:\n",
        "            print(\"Martes\")\n",
        "        else: \n",
        "            if dia == 3:\n",
        "                print(\"Miercoles\")\n",
        "            else:\n",
        "                if dia == 4:\n",
        "                    print(\"Jueves\")\n",
        "                else:\n",
        "                     if dia == 5:\n",
        "                         print(\"Viernes\")\n",
        "                     else:\n",
        "                         if dia == 6:\n",
        "                             print(\"Sabado\")\n",
        "                         else:\n",
        "                                 print(\"Domingo\")     \n",
        "                    \n",
        "else:\n",
        "    print(\"Ese numero no esta dentro del rango solicitado\")"
      ],
      "execution_count": 43,
      "outputs": [
        {
          "output_type": "stream",
          "name": "stdout",
          "text": [
            "Ingresa un numero entre el 1 y 7: -1\n",
            "capturaste el numero: -1\n",
            "Ese numero no esta dentro del rango solicitado\n"
          ]
        }
      ]
    },
    {
      "cell_type": "markdown",
      "metadata": {
        "id": "VOnfUggYa9i3"
      },
      "source": [
        "# Selección multiple (switch)\n",
        "En python no existe la estrcutura de seleccion switch, en su lugar se emplea la palabra reservada : elif\n",
        "\n",
        "Por ejemplo en el lenguaje c y java seria de la forma:\n",
        "```\n",
        "\n",
        "```"
      ]
    },
    {
      "cell_type": "code",
      "metadata": {
        "colab": {
          "base_uri": "https://localhost:8080/"
        },
        "id": "REekHjNCc06s",
        "outputId": "39122b23-3a7d-4c04-a83d-4a50e15c4f29"
      },
      "source": [
        "# Ejemplo\n",
        "NUM = int(input(\"Dame un valor entre 1 y 3: \"))\n",
        "V = float(input(\"Dame un valor decimal: \"))\n",
        "VAL = 0\n",
        "if NUM == 1: \n",
        "    VAL = 100 * V\n",
        "elif NUM == 2:\n",
        "    VAL = 100 ** V\n",
        "elif NUM == 3:\n",
        "    VAL = 100/V\n",
        "else:\n",
        "    VAL = 0\n",
        "print(VAL)"
      ],
      "execution_count": 45,
      "outputs": [
        {
          "output_type": "stream",
          "name": "stdout",
          "text": [
            "Dame un valor entre 1 y 3: 2\n",
            "Dame un valor decimal: 16.5\n",
            "1e+33\n"
          ]
        }
      ]
    }
  ]
}