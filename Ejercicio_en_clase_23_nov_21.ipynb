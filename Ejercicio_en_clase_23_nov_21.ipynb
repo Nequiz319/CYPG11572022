{
  "nbformat": 4,
  "nbformat_minor": 0,
  "metadata": {
    "colab": {
      "name": "Ejercicio en clase 23-nov-21.ipynb",
      "provenance": [],
      "authorship_tag": "ABX9TyM71/J+hPBBuV5l0vwCLIh3",
      "include_colab_link": true
    },
    "kernelspec": {
      "name": "python3",
      "display_name": "Python 3"
    },
    "language_info": {
      "name": "python"
    }
  },
  "cells": [
    {
      "cell_type": "markdown",
      "metadata": {
        "id": "view-in-github",
        "colab_type": "text"
      },
      "source": [
        "<a href=\"https://colab.research.google.com/github/Nequiz319/CYPG11572022/blob/main/Ejercicio_en_clase_23_nov_21.ipynb\" target=\"_parent\"><img src=\"https://colab.research.google.com/assets/colab-badge.svg\" alt=\"Open In Colab\"/></a>"
      ]
    },
    {
      "cell_type": "code",
      "metadata": {
        "colab": {
          "base_uri": "https://localhost:8080/"
        },
        "id": "BEKCSDnzNLd8",
        "outputId": "88efa72e-634b-4a05-f771-85a62dec0371"
      },
      "source": [
        "A = int(input(\"Dame el primer valor entero: \"))\n",
        "B = int(input(\"Dame el segundo valor entero: \"))\n",
        "C = int(input(\"Dame el tercer valor entero: \"))\n",
        "if A>B:\n",
        "    if A>C: \n",
        "        if B>C:\n",
        "            print(\"La secuencia del mayor al menor es : \",A, B, C)\n",
        "        else:\n",
        "            print(\"La secuencia del mayor al menor es : \",A, C, B)\n",
        "    else: print(\"La secuencia del mayor al menor es : \",C, A, B)\n",
        "else:\n",
        "    if B>C: \n",
        "    \n",
        "        if A>C:\n",
        "            print(\"La secuencia del mayor al menor es : \",B, A, C)\n",
        "        else:\n",
        "            print(\"La secuencia del mayor al menor es : \",B, C, A)\n",
        "    else: print(\"La secuencia del mayor al menor es : \",C, B, A)\n",
        "\n",
        "print(\"fin del programa\")"
      ],
      "execution_count": 1,
      "outputs": [
        {
          "output_type": "stream",
          "name": "stdout",
          "text": [
            "Dame el primer valor entero: 89\n",
            "Dame el segundo valor entero: 15\n",
            "Dame el tercer valor entero: 9\n",
            "La secuencia del mayor al menor es :  89 15 9\n",
            "fin del programa\n"
          ]
        }
      ]
    }
  ]
}