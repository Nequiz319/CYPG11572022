{
  "nbformat": 4,
  "nbformat_minor": 0,
  "metadata": {
    "colab": {
      "name": "FundamentosCyP1157.ipynb",
      "provenance": [],
      "authorship_tag": "ABX9TyMoaT1afolKqKcUmBCQMJyR",
      "include_colab_link": true
    },
    "kernelspec": {
      "name": "python3",
      "display_name": "Python 3"
    },
    "language_info": {
      "name": "python"
    }
  },
  "cells": [
    {
      "cell_type": "markdown",
      "metadata": {
        "id": "view-in-github",
        "colab_type": "text"
      },
      "source": [
        "<a href=\"https://colab.research.google.com/github/Nequiz319/CYPG11572022/blob/main/FundamentosCyP1157.ipynb\" target=\"_parent\"><img src=\"https://colab.research.google.com/assets/colab-badge.svg\" alt=\"Open In Colab\"/></a>"
      ]
    },
    {
      "cell_type": "code",
      "metadata": {
        "colab": {
          "base_uri": "https://localhost:8080/"
        },
        "id": "SQBjdki6Va9T",
        "outputId": "3a9486af-2b8c-4287-a0f3-35f4bd282c98"
      },
      "source": [
        "nombre='Adriana' # Tipo de dato String (Cadena de caracteres)\n",
        "\n",
        "print (nombre)\n",
        "\n"
      ],
      "execution_count": null,
      "outputs": [
        {
          "output_type": "stream",
          "name": "stdout",
          "text": [
            "Adriana\n"
          ]
        }
      ]
    },
    {
      "cell_type": "markdown",
      "metadata": {
        "id": "H6k9oMYaXMc1"
      },
      "source": [
        "#tipos de dato en Python\n",
        "### Tipos simples\n",
        "- str --> String cadena de caractéres.\n",
        "- int --> Numeros enteros\n",
        "- float --> Numeros con notación de punto flotante\n",
        "- complex --> Numeros complejos\n",
        "- bool --> Boleano (True o Fals)\n",
        "- byte --> 8 bits\n",
        "\n",
        "### Tipos de datos Estructurados (compuestos)\n",
        "\n",
        "\n",
        "- list --> Listas\n",
        "- dict --> Diccionarios\n",
        "- set y frozenset --> conjuntos\n",
        "- tuple --> Listas no mutables\n"
      ]
    },
    {
      "cell_type": "code",
      "metadata": {
        "colab": {
          "base_uri": "https://localhost:8080/"
        },
        "id": "x4yiu4IOaiF2",
        "outputId": "3ab2e336-dec1-4471-8d8c-7e109a3d60e2"
      },
      "source": [
        "import sys \n",
        "edad = 18\n",
        "print(\"Tu edad es:\", edad) # al final de una línea de código\n",
        "\n",
        "\"\"\"\n",
        "comentario de multiples líneas con las comillas\n",
        "en lenguaje c, c++ y java se hace con /* comentario...*/\n",
        "y de una sola linea en java y c, c++ es con //\n",
        "sirven para guiarnos o para ayudarnos cuando el código se complica\n",
        "\"\"\"\n",
        "# Tipos de datos núemericos int y float\n",
        "print (sys. getsizeof(edad))\n",
        "#tamaño en bits que utiliza la variable, biblioteca sys\n",
        "#El tipo de dato int utiliza cantidad de bits segun el lenguaje de programación\n",
        "#por ejemplo en C utiliza 16 bits\n",
        "\n",
        "edad = edad + 1\n",
        "print( edad )\n",
        "\n",
        "estatura = 1.54\n",
        "print( estatura )\n",
        "print( sys.getsizeof(estatura))\n",
        "estatura = estatura + 0.1\n",
        "print( estatura )\n",
        "print( round(estatura,2))\n",
        "\n",
        "edad += 1 # equivale a : edad= edad + 1\n",
        "print( \"Tu edad es:\", edad )\n",
        "\n",
        "edad -= 1\n",
        "print( \"Tu edad es:\", edad )\n",
        "\n",
        "edad += 1\n",
        "edad /= 2\n",
        "print( \"La mitad de tu edad es:\", edad )\n",
        "\n",
        "edad = 20\n",
        "\n",
        "edad = edad // 2 #nos dara como resultado numeros enteros con las 2 diagonales\n",
        "print( \"La mitad de tu edad es:\", edad )\n",
        "\n",
        "numero = edad / 2.0\n",
        "print( numero )\n",
        "\n",
        "numero = numero * 3\n",
        "print( numero )\n",
        "\n",
        "numero *= 3 # es lo mismo que * 3 \n",
        "print( numero )\n",
        "\n",
        "numero = 5.0\n",
        "numero = numero ** 2 # a la potencia, también se puede numero **= 2\n",
        "print( numero )\n",
        "\n",
        "#MODULO\n",
        "numero = 21\n",
        "print( numero / 2 )"
      ],
      "execution_count": null,
      "outputs": [
        {
          "output_type": "stream",
          "name": "stdout",
          "text": [
            "Tu edad es: 18\n",
            "28\n",
            "19\n",
            "1.54\n",
            "24\n",
            "1.6400000000000001\n",
            "1.64\n",
            "Tu edad es: 20\n",
            "Tu edad es: 19\n",
            "La mitad de tu edad es: 10.0\n",
            "La mitad de tu edad es: 10\n",
            "5.0\n",
            "15.0\n",
            "45.0\n",
            "25.0\n",
            "10.5\n"
          ]
        }
      ]
    },
    {
      "cell_type": "code",
      "metadata": {
        "colab": {
          "base_uri": "https://localhost:8080/"
        },
        "id": "UOHm3CzwluPE",
        "outputId": "4d04909e-4f89-43fb-ac3b-95ae5f0671c3"
      },
      "source": [
        "# modulo\n",
        "numero = 21\n",
        "print( numero / 2 )\n",
        "print( numero // 2 )\n",
        "\n",
        "#el operador modulo da como resultado el residuo de una operación entera \n",
        "# y se utiliza % para utilizar el operador modulo\n",
        "print( numero % 2 )\n",
        "\n",
        "numero = 24\n",
        "print( \"Residuo de 24/ 5:\", numero % 5 )\n",
        "\n",
        "print( numero % 2 ==0 ) #operador relacional de false o true \n",
        "\n",
        "print( numero % 2 > 0 ) # ejemplo de los operadores ralacionales\n",
        "\n",
        "print( numero < 15 )\n",
        "print( \"24 es diferente a 23: \", numero != 23 )\n",
        "print( \"24 es mayor o igual a 23: \", numero >= 23 )\n",
        "\n",
        "print(\" El tipo de dato de la variable numero es:\", type(numero))\n",
        "print(\" El tipo de dato de la variable numero/2.0 es:\", type(numero/2.0))\n",
        "\n"
      ],
      "execution_count": null,
      "outputs": [
        {
          "output_type": "stream",
          "name": "stdout",
          "text": [
            "10.5\n",
            "10\n",
            "1\n",
            "Residuo de 24/ 5: 4\n",
            "True\n",
            "False\n",
            "False\n",
            "24 es diferente a 23:  True\n",
            "24 es mayor o igual a 23:  True\n",
            " El tipo de dato de la variable numero es: <class 'int'>\n",
            " El tipo de dato de la variable numero/2.0 es: <class 'float'>\n"
          ]
        }
      ]
    },
    {
      "cell_type": "markdown",
      "metadata": {
        "id": "ttlGw5DRpoHZ"
      },
      "source": [
        "# Tipo de dato String\n",
        "\n",
        "- Se maneja un arreglo (tipo de dato compuesto)\n",
        "- Se puede acceder a los elementos de el string por medio del índice del caracter.\n",
        "- mutable\n",
        "- tiene métodos utiles (potentes).\n",
        "- slicing"
      ]
    },
    {
      "cell_type": "code",
      "metadata": {
        "colab": {
          "base_uri": "https://localhost:8080/"
        },
        "id": "lHAneyKLqIhs",
        "outputId": "c1371df6-11ae-4b4a-c3b4-87da4ebb9d03"
      },
      "source": [
        "nombre = 'Adriana'\n",
        "carrera = 'Ingeniería en computación'\n",
        "frase = \"\"\" No eres lo que logras\n",
        "eres lo que superas....\"\"\"\n",
        "print( nombre )\n",
        "print( carrera )\n",
        "print( frase )\n",
        "# La función type  de python te devuelve el tipo de datos de una variable\n",
        "print( type(nombre) )\n",
        "\n",
        "apellidopaterno = str( \"Nequiz\" )\n",
        "print(apellidopaterno)"
      ],
      "execution_count": null,
      "outputs": [
        {
          "output_type": "stream",
          "name": "stdout",
          "text": [
            "Adriana\n",
            "Ingeniería en computación\n",
            " No eres lo que logras\n",
            "eres lo que superas....\n",
            "<class 'str'>\n",
            "Nequiz\n"
          ]
        }
      ]
    },
    {
      "cell_type": "markdown",
      "metadata": {
        "id": "g02gYyuFpIb-"
      },
      "source": [
        "###Una clase (class) es un tipo de dato compuesto.\n"
      ]
    },
    {
      "cell_type": "code",
      "metadata": {
        "colab": {
          "base_uri": "https://localhost:8080/"
        },
        "id": "wBfW8brFpSl3",
        "outputId": "89b2eb9a-4bd6-4486-b9b4-bb99974b4975"
      },
      "source": [
        "carrera = \"Ingeniería en computación\"\n",
        "print( carrera )\n",
        "print( carrera [2]  )\n",
        "\n"
      ],
      "execution_count": null,
      "outputs": [
        {
          "output_type": "stream",
          "name": "stdout",
          "text": [
            "Ingeniería en computación\n",
            "g\n"
          ]
        }
      ]
    },
    {
      "cell_type": "markdown",
      "metadata": {
        "id": "BxzWYbxJrsct"
      },
      "source": [
        "# a la sintaxis escrita para elegir un elemento de datos se le llama selector.\n",
        "En el caso de String y listas ( lst) se usan caracteres '['y']'\n",
        "1. En todos los lenguajes los arreglos inician en 0.\n",
        "2. En python no existe como tal el tipo de dato arreglo, el concepto es susutituido por las listas.\n",
        "3. Los Strings se comportan como un arreglo en la mayoria de los lenguajes.\n",
        "4. En python se acepta en indexado negativo, en otros lenguajes NO.\n"
      ]
    },
    {
      "cell_type": "code",
      "metadata": {
        "colab": {
          "base_uri": "https://localhost:8080/"
        },
        "id": "jk6u0dHxsh26",
        "outputId": "98fb3782-9997-40de-e716-9144c3f5b199"
      },
      "source": [
        "carrera = \"Ingenería en compuatción\"\n",
        "print( carrera[8])\n",
        "print( carrera[24]) # los espacios también cuentan\n",
        "print( carrera[11])\n",
        "print( carrera[-1]) # de derecha a izquierda es el indexado y no existe el -0\n",
        "print( carrera[-25])\n",
        "\n",
        "# Adelantando el tema de ciclo FOR\n",
        "for letra in carrera:\n",
        "    print( \"-->\", letra, \"<--\" )\n"
      ],
      "execution_count": null,
      "outputs": [
        {
          "output_type": "stream",
          "name": "stdout",
          "text": [
            "í\n",
            "n\n",
            "e\n",
            "n\n",
            "I\n",
            "--> I <--\n",
            "--> n <--\n",
            "--> g <--\n",
            "--> e <--\n",
            "--> n <--\n",
            "--> i <--\n",
            "--> e <--\n",
            "--> r <--\n",
            "--> í <--\n",
            "--> a <--\n",
            "-->   <--\n",
            "--> e <--\n",
            "--> n <--\n",
            "-->   <--\n",
            "--> c <--\n",
            "--> o <--\n",
            "--> m <--\n",
            "--> p <--\n",
            "--> u <--\n",
            "--> t <--\n",
            "--> a <--\n",
            "--> c <--\n",
            "--> i <--\n",
            "--> ó <--\n",
            "--> n <--\n"
          ]
        }
      ]
    },
    {
      "cell_type": "markdown",
      "metadata": {
        "id": "QmDlqPjGu6t6"
      },
      "source": [
        "# Slicing (rebanado) de cadenas\n",
        "Permite seleccionar subcadenas con el operador [inicio: top: incremento]\n",
        "El stop no se incluye, por eso se debe agregar una posición extra.\n",
        "### Slicing y valores por defecto\n",
        "incio por defecto siempre será 0\n",
        "Stop: tamaño del arreglo (indexado positivo)\n",
        "(0 en un indexado negativo)\n",
        "incremento: es 1 (indexado positivo)"
      ]
    },
    {
      "cell_type": "code",
      "metadata": {
        "colab": {
          "base_uri": "https://localhost:8080/"
        },
        "id": "yxB-Cfk8vZD0",
        "outputId": "8813704c-6ca9-456b-b0bb-650eabd38a19"
      },
      "source": [
        "carrera = \"Ingeniería en computación\"\n",
        "print( carrera [0:10:1] ) \n",
        "print( carrera [10:13:1] ) \n",
        "print( carrera [14:25:1] ) \n",
        "# es lo mismo pero con indexado negativo\n",
        "print( carrera [-11:-1:1] ) \n",
        "print( carrera [:10:] )\n",
        "print( carrera [14:25:] )\n",
        "print( carrera [-11::1] )\n",
        "# Solución previa \n",
        "print( \"---------------------\" )\n",
        "print( carrera [ -11 : -1 : 1 ] )\n",
        "print( carrera [-11 : : 1] )\n",
        "\n",
        "# el incremento\n",
        "print( carrera [0:10:2] )\n",
        "print( carrera [-1:-12:-1] )\n",
        "print( carrera [25:13:-1] )"
      ],
      "execution_count": null,
      "outputs": [
        {
          "output_type": "stream",
          "name": "stdout",
          "text": [
            "Ingeniería\n",
            " en\n",
            "computación\n",
            "computació\n",
            "Ingeniería\n",
            "computación\n",
            "computación\n",
            "---------------------\n",
            "computació\n",
            "computación\n",
            "Igneí\n",
            "nóicatupmoc\n",
            "nóicatupmoc\n"
          ]
        }
      ]
    },
    {
      "cell_type": "markdown",
      "metadata": {
        "id": "lRLpB1RV0olg"
      },
      "source": [
        "# String y sus métodos\n",
        "#Todos los tipos de dato en python son objetos (CALSES de la POO)\n",
        "## dir() y help() funciones para obtener ayuda del lenguaje python\n",
        "### dir muestra las funciones de un tipo de dato como resumen\n",
        "### help muestra la misma ayuda pero a detalle\n",
        "\n",
        "\n",
        "\n",
        "Metodo que inician con doble guion bajo son privados de uso interno y no deberiamos usarlos\n",
        "Todos los demas son para uso exterior (usuario)"
      ]
    },
    {
      "cell_type": "code",
      "metadata": {
        "colab": {
          "base_uri": "https://localhost:8080/"
        },
        "id": "1c3ofAXt1LFO",
        "outputId": "3ed02589-7836-4786-d731-31b3543a9f28"
      },
      "source": [
        " frutas =\"  Limon , fresa, manzana  , aguacate  \"\n",
        " nombre = \"adriana\"\n",
        "print(frutas)\n",
        "dir(frutas) #son métodos (POO)\n",
        "\n",
        "print( nombre.capitalize()) # aplicar mayuscula a la primer letra\n",
        "print( nombre.upper()) # aplicar mayusculas en tosa las letras\n",
        "print( nombre.replace( 'a', '4' )) #remplazar \n",
        "print( nombre.replace( 'a', '4' ).replace( 'n', '7' ).upper() )\n",
        "nombre = nombre.replace( 'a', '4' ).replace( 'n', '7' ).upper() \n",
        "print(frutas)\n",
        "print( frutas.strip() ) # borro espacios\n",
        "print(frutas.split( ',' ) ) # los separa por espacio, también se puede indicar por que valor va a separar\n",
        "print( frutas.index(\"n\") ) # busca posiciones\n",
        "dir(frutas)\n",
        "help(str) # nos muestra para que sirven los metodos\n",
        "dir(frutas)\n",
        "help(str.index)\n"
      ],
      "execution_count": null,
      "outputs": [
        {
          "output_type": "stream",
          "name": "stdout",
          "text": [
            "  Limon , fresa, manzana  , aguacate  \n",
            "Adriana\n",
            "ADRIANA\n",
            "4dri4n4\n",
            "4DRI474\n",
            "  Limon , fresa, manzana  , aguacate  \n",
            "Limon , fresa, manzana  , aguacate\n",
            "['  Limon ', ' fresa', ' manzana  ', ' aguacate  ']\n",
            "6\n",
            "Help on class str in module builtins:\n",
            "\n",
            "class str(object)\n",
            " |  str(object='') -> str\n",
            " |  str(bytes_or_buffer[, encoding[, errors]]) -> str\n",
            " |  \n",
            " |  Create a new string object from the given object. If encoding or\n",
            " |  errors is specified, then the object must expose a data buffer\n",
            " |  that will be decoded using the given encoding and error handler.\n",
            " |  Otherwise, returns the result of object.__str__() (if defined)\n",
            " |  or repr(object).\n",
            " |  encoding defaults to sys.getdefaultencoding().\n",
            " |  errors defaults to 'strict'.\n",
            " |  \n",
            " |  Methods defined here:\n",
            " |  \n",
            " |  __add__(self, value, /)\n",
            " |      Return self+value.\n",
            " |  \n",
            " |  __contains__(self, key, /)\n",
            " |      Return key in self.\n",
            " |  \n",
            " |  __eq__(self, value, /)\n",
            " |      Return self==value.\n",
            " |  \n",
            " |  __format__(self, format_spec, /)\n",
            " |      Return a formatted version of the string as described by format_spec.\n",
            " |  \n",
            " |  __ge__(self, value, /)\n",
            " |      Return self>=value.\n",
            " |  \n",
            " |  __getattribute__(self, name, /)\n",
            " |      Return getattr(self, name).\n",
            " |  \n",
            " |  __getitem__(self, key, /)\n",
            " |      Return self[key].\n",
            " |  \n",
            " |  __getnewargs__(...)\n",
            " |  \n",
            " |  __gt__(self, value, /)\n",
            " |      Return self>value.\n",
            " |  \n",
            " |  __hash__(self, /)\n",
            " |      Return hash(self).\n",
            " |  \n",
            " |  __iter__(self, /)\n",
            " |      Implement iter(self).\n",
            " |  \n",
            " |  __le__(self, value, /)\n",
            " |      Return self<=value.\n",
            " |  \n",
            " |  __len__(self, /)\n",
            " |      Return len(self).\n",
            " |  \n",
            " |  __lt__(self, value, /)\n",
            " |      Return self<value.\n",
            " |  \n",
            " |  __mod__(self, value, /)\n",
            " |      Return self%value.\n",
            " |  \n",
            " |  __mul__(self, value, /)\n",
            " |      Return self*value.\n",
            " |  \n",
            " |  __ne__(self, value, /)\n",
            " |      Return self!=value.\n",
            " |  \n",
            " |  __repr__(self, /)\n",
            " |      Return repr(self).\n",
            " |  \n",
            " |  __rmod__(self, value, /)\n",
            " |      Return value%self.\n",
            " |  \n",
            " |  __rmul__(self, value, /)\n",
            " |      Return value*self.\n",
            " |  \n",
            " |  __sizeof__(self, /)\n",
            " |      Return the size of the string in memory, in bytes.\n",
            " |  \n",
            " |  __str__(self, /)\n",
            " |      Return str(self).\n",
            " |  \n",
            " |  capitalize(self, /)\n",
            " |      Return a capitalized version of the string.\n",
            " |      \n",
            " |      More specifically, make the first character have upper case and the rest lower\n",
            " |      case.\n",
            " |  \n",
            " |  casefold(self, /)\n",
            " |      Return a version of the string suitable for caseless comparisons.\n",
            " |  \n",
            " |  center(self, width, fillchar=' ', /)\n",
            " |      Return a centered string of length width.\n",
            " |      \n",
            " |      Padding is done using the specified fill character (default is a space).\n",
            " |  \n",
            " |  count(...)\n",
            " |      S.count(sub[, start[, end]]) -> int\n",
            " |      \n",
            " |      Return the number of non-overlapping occurrences of substring sub in\n",
            " |      string S[start:end].  Optional arguments start and end are\n",
            " |      interpreted as in slice notation.\n",
            " |  \n",
            " |  encode(self, /, encoding='utf-8', errors='strict')\n",
            " |      Encode the string using the codec registered for encoding.\n",
            " |      \n",
            " |      encoding\n",
            " |        The encoding in which to encode the string.\n",
            " |      errors\n",
            " |        The error handling scheme to use for encoding errors.\n",
            " |        The default is 'strict' meaning that encoding errors raise a\n",
            " |        UnicodeEncodeError.  Other possible values are 'ignore', 'replace' and\n",
            " |        'xmlcharrefreplace' as well as any other name registered with\n",
            " |        codecs.register_error that can handle UnicodeEncodeErrors.\n",
            " |  \n",
            " |  endswith(...)\n",
            " |      S.endswith(suffix[, start[, end]]) -> bool\n",
            " |      \n",
            " |      Return True if S ends with the specified suffix, False otherwise.\n",
            " |      With optional start, test S beginning at that position.\n",
            " |      With optional end, stop comparing S at that position.\n",
            " |      suffix can also be a tuple of strings to try.\n",
            " |  \n",
            " |  expandtabs(self, /, tabsize=8)\n",
            " |      Return a copy where all tab characters are expanded using spaces.\n",
            " |      \n",
            " |      If tabsize is not given, a tab size of 8 characters is assumed.\n",
            " |  \n",
            " |  find(...)\n",
            " |      S.find(sub[, start[, end]]) -> int\n",
            " |      \n",
            " |      Return the lowest index in S where substring sub is found,\n",
            " |      such that sub is contained within S[start:end].  Optional\n",
            " |      arguments start and end are interpreted as in slice notation.\n",
            " |      \n",
            " |      Return -1 on failure.\n",
            " |  \n",
            " |  format(...)\n",
            " |      S.format(*args, **kwargs) -> str\n",
            " |      \n",
            " |      Return a formatted version of S, using substitutions from args and kwargs.\n",
            " |      The substitutions are identified by braces ('{' and '}').\n",
            " |  \n",
            " |  format_map(...)\n",
            " |      S.format_map(mapping) -> str\n",
            " |      \n",
            " |      Return a formatted version of S, using substitutions from mapping.\n",
            " |      The substitutions are identified by braces ('{' and '}').\n",
            " |  \n",
            " |  index(...)\n",
            " |      S.index(sub[, start[, end]]) -> int\n",
            " |      \n",
            " |      Return the lowest index in S where substring sub is found, \n",
            " |      such that sub is contained within S[start:end].  Optional\n",
            " |      arguments start and end are interpreted as in slice notation.\n",
            " |      \n",
            " |      Raises ValueError when the substring is not found.\n",
            " |  \n",
            " |  isalnum(self, /)\n",
            " |      Return True if the string is an alpha-numeric string, False otherwise.\n",
            " |      \n",
            " |      A string is alpha-numeric if all characters in the string are alpha-numeric and\n",
            " |      there is at least one character in the string.\n",
            " |  \n",
            " |  isalpha(self, /)\n",
            " |      Return True if the string is an alphabetic string, False otherwise.\n",
            " |      \n",
            " |      A string is alphabetic if all characters in the string are alphabetic and there\n",
            " |      is at least one character in the string.\n",
            " |  \n",
            " |  isascii(self, /)\n",
            " |      Return True if all characters in the string are ASCII, False otherwise.\n",
            " |      \n",
            " |      ASCII characters have code points in the range U+0000-U+007F.\n",
            " |      Empty string is ASCII too.\n",
            " |  \n",
            " |  isdecimal(self, /)\n",
            " |      Return True if the string is a decimal string, False otherwise.\n",
            " |      \n",
            " |      A string is a decimal string if all characters in the string are decimal and\n",
            " |      there is at least one character in the string.\n",
            " |  \n",
            " |  isdigit(self, /)\n",
            " |      Return True if the string is a digit string, False otherwise.\n",
            " |      \n",
            " |      A string is a digit string if all characters in the string are digits and there\n",
            " |      is at least one character in the string.\n",
            " |  \n",
            " |  isidentifier(self, /)\n",
            " |      Return True if the string is a valid Python identifier, False otherwise.\n",
            " |      \n",
            " |      Use keyword.iskeyword() to test for reserved identifiers such as \"def\" and\n",
            " |      \"class\".\n",
            " |  \n",
            " |  islower(self, /)\n",
            " |      Return True if the string is a lowercase string, False otherwise.\n",
            " |      \n",
            " |      A string is lowercase if all cased characters in the string are lowercase and\n",
            " |      there is at least one cased character in the string.\n",
            " |  \n",
            " |  isnumeric(self, /)\n",
            " |      Return True if the string is a numeric string, False otherwise.\n",
            " |      \n",
            " |      A string is numeric if all characters in the string are numeric and there is at\n",
            " |      least one character in the string.\n",
            " |  \n",
            " |  isprintable(self, /)\n",
            " |      Return True if the string is printable, False otherwise.\n",
            " |      \n",
            " |      A string is printable if all of its characters are considered printable in\n",
            " |      repr() or if it is empty.\n",
            " |  \n",
            " |  isspace(self, /)\n",
            " |      Return True if the string is a whitespace string, False otherwise.\n",
            " |      \n",
            " |      A string is whitespace if all characters in the string are whitespace and there\n",
            " |      is at least one character in the string.\n",
            " |  \n",
            " |  istitle(self, /)\n",
            " |      Return True if the string is a title-cased string, False otherwise.\n",
            " |      \n",
            " |      In a title-cased string, upper- and title-case characters may only\n",
            " |      follow uncased characters and lowercase characters only cased ones.\n",
            " |  \n",
            " |  isupper(self, /)\n",
            " |      Return True if the string is an uppercase string, False otherwise.\n",
            " |      \n",
            " |      A string is uppercase if all cased characters in the string are uppercase and\n",
            " |      there is at least one cased character in the string.\n",
            " |  \n",
            " |  join(self, iterable, /)\n",
            " |      Concatenate any number of strings.\n",
            " |      \n",
            " |      The string whose method is called is inserted in between each given string.\n",
            " |      The result is returned as a new string.\n",
            " |      \n",
            " |      Example: '.'.join(['ab', 'pq', 'rs']) -> 'ab.pq.rs'\n",
            " |  \n",
            " |  ljust(self, width, fillchar=' ', /)\n",
            " |      Return a left-justified string of length width.\n",
            " |      \n",
            " |      Padding is done using the specified fill character (default is a space).\n",
            " |  \n",
            " |  lower(self, /)\n",
            " |      Return a copy of the string converted to lowercase.\n",
            " |  \n",
            " |  lstrip(self, chars=None, /)\n",
            " |      Return a copy of the string with leading whitespace removed.\n",
            " |      \n",
            " |      If chars is given and not None, remove characters in chars instead.\n",
            " |  \n",
            " |  partition(self, sep, /)\n",
            " |      Partition the string into three parts using the given separator.\n",
            " |      \n",
            " |      This will search for the separator in the string.  If the separator is found,\n",
            " |      returns a 3-tuple containing the part before the separator, the separator\n",
            " |      itself, and the part after it.\n",
            " |      \n",
            " |      If the separator is not found, returns a 3-tuple containing the original string\n",
            " |      and two empty strings.\n",
            " |  \n",
            " |  replace(self, old, new, count=-1, /)\n",
            " |      Return a copy with all occurrences of substring old replaced by new.\n",
            " |      \n",
            " |        count\n",
            " |          Maximum number of occurrences to replace.\n",
            " |          -1 (the default value) means replace all occurrences.\n",
            " |      \n",
            " |      If the optional argument count is given, only the first count occurrences are\n",
            " |      replaced.\n",
            " |  \n",
            " |  rfind(...)\n",
            " |      S.rfind(sub[, start[, end]]) -> int\n",
            " |      \n",
            " |      Return the highest index in S where substring sub is found,\n",
            " |      such that sub is contained within S[start:end].  Optional\n",
            " |      arguments start and end are interpreted as in slice notation.\n",
            " |      \n",
            " |      Return -1 on failure.\n",
            " |  \n",
            " |  rindex(...)\n",
            " |      S.rindex(sub[, start[, end]]) -> int\n",
            " |      \n",
            " |      Return the highest index in S where substring sub is found,\n",
            " |      such that sub is contained within S[start:end].  Optional\n",
            " |      arguments start and end are interpreted as in slice notation.\n",
            " |      \n",
            " |      Raises ValueError when the substring is not found.\n",
            " |  \n",
            " |  rjust(self, width, fillchar=' ', /)\n",
            " |      Return a right-justified string of length width.\n",
            " |      \n",
            " |      Padding is done using the specified fill character (default is a space).\n",
            " |  \n",
            " |  rpartition(self, sep, /)\n",
            " |      Partition the string into three parts using the given separator.\n",
            " |      \n",
            " |      This will search for the separator in the string, starting at the end. If\n",
            " |      the separator is found, returns a 3-tuple containing the part before the\n",
            " |      separator, the separator itself, and the part after it.\n",
            " |      \n",
            " |      If the separator is not found, returns a 3-tuple containing two empty strings\n",
            " |      and the original string.\n",
            " |  \n",
            " |  rsplit(self, /, sep=None, maxsplit=-1)\n",
            " |      Return a list of the words in the string, using sep as the delimiter string.\n",
            " |      \n",
            " |        sep\n",
            " |          The delimiter according which to split the string.\n",
            " |          None (the default value) means split according to any whitespace,\n",
            " |          and discard empty strings from the result.\n",
            " |        maxsplit\n",
            " |          Maximum number of splits to do.\n",
            " |          -1 (the default value) means no limit.\n",
            " |      \n",
            " |      Splits are done starting at the end of the string and working to the front.\n",
            " |  \n",
            " |  rstrip(self, chars=None, /)\n",
            " |      Return a copy of the string with trailing whitespace removed.\n",
            " |      \n",
            " |      If chars is given and not None, remove characters in chars instead.\n",
            " |  \n",
            " |  split(self, /, sep=None, maxsplit=-1)\n",
            " |      Return a list of the words in the string, using sep as the delimiter string.\n",
            " |      \n",
            " |      sep\n",
            " |        The delimiter according which to split the string.\n",
            " |        None (the default value) means split according to any whitespace,\n",
            " |        and discard empty strings from the result.\n",
            " |      maxsplit\n",
            " |        Maximum number of splits to do.\n",
            " |        -1 (the default value) means no limit.\n",
            " |  \n",
            " |  splitlines(self, /, keepends=False)\n",
            " |      Return a list of the lines in the string, breaking at line boundaries.\n",
            " |      \n",
            " |      Line breaks are not included in the resulting list unless keepends is given and\n",
            " |      true.\n",
            " |  \n",
            " |  startswith(...)\n",
            " |      S.startswith(prefix[, start[, end]]) -> bool\n",
            " |      \n",
            " |      Return True if S starts with the specified prefix, False otherwise.\n",
            " |      With optional start, test S beginning at that position.\n",
            " |      With optional end, stop comparing S at that position.\n",
            " |      prefix can also be a tuple of strings to try.\n",
            " |  \n",
            " |  strip(self, chars=None, /)\n",
            " |      Return a copy of the string with leading and trailing whitespace removed.\n",
            " |      \n",
            " |      If chars is given and not None, remove characters in chars instead.\n",
            " |  \n",
            " |  swapcase(self, /)\n",
            " |      Convert uppercase characters to lowercase and lowercase characters to uppercase.\n",
            " |  \n",
            " |  title(self, /)\n",
            " |      Return a version of the string where each word is titlecased.\n",
            " |      \n",
            " |      More specifically, words start with uppercased characters and all remaining\n",
            " |      cased characters have lower case.\n",
            " |  \n",
            " |  translate(self, table, /)\n",
            " |      Replace each character in the string using the given translation table.\n",
            " |      \n",
            " |        table\n",
            " |          Translation table, which must be a mapping of Unicode ordinals to\n",
            " |          Unicode ordinals, strings, or None.\n",
            " |      \n",
            " |      The table must implement lookup/indexing via __getitem__, for instance a\n",
            " |      dictionary or list.  If this operation raises LookupError, the character is\n",
            " |      left untouched.  Characters mapped to None are deleted.\n",
            " |  \n",
            " |  upper(self, /)\n",
            " |      Return a copy of the string converted to uppercase.\n",
            " |  \n",
            " |  zfill(self, width, /)\n",
            " |      Pad a numeric string with zeros on the left, to fill a field of the given width.\n",
            " |      \n",
            " |      The string is never truncated.\n",
            " |  \n",
            " |  ----------------------------------------------------------------------\n",
            " |  Static methods defined here:\n",
            " |  \n",
            " |  __new__(*args, **kwargs) from builtins.type\n",
            " |      Create and return a new object.  See help(type) for accurate signature.\n",
            " |  \n",
            " |  maketrans(x, y=None, z=None, /)\n",
            " |      Return a translation table usable for str.translate().\n",
            " |      \n",
            " |      If there is only one argument, it must be a dictionary mapping Unicode\n",
            " |      ordinals (integers) or characters to Unicode ordinals, strings or None.\n",
            " |      Character keys will be then converted to ordinals.\n",
            " |      If there are two arguments, they must be strings of equal length, and\n",
            " |      in the resulting dictionary, each character in x will be mapped to the\n",
            " |      character at the same position in y. If there is a third argument, it\n",
            " |      must be a string, whose characters will be mapped to None in the result.\n",
            "\n",
            "Help on method_descriptor:\n",
            "\n",
            "index(...)\n",
            "    S.index(sub[, start[, end]]) -> int\n",
            "    \n",
            "    Return the lowest index in S where substring sub is found, \n",
            "    such that sub is contained within S[start:end].  Optional\n",
            "    arguments start and end are interpreted as in slice notation.\n",
            "    \n",
            "    Raises ValueError when the substring is not found.\n",
            "\n"
          ]
        }
      ]
    },
    {
      "cell_type": "code",
      "metadata": {
        "colab": {
          "base_uri": "https://localhost:8080/"
        },
        "id": "4im2Y2FX3jo3",
        "outputId": "15b0aaf9-03f4-4e82-f278-b4910f2d5302"
      },
      "source": [
        "print(\" \\\"Adriana\\\" \") # se utiliza al diagonal inversa para separar\n",
        "nombre = \" \\\"Adriana\\\" \"\n",
        "print(nombre)\n",
        "carrera = \"Ingenieria \\n\\ten \\n\\t\\tComputación\"\n",
        "print(carrera)"
      ],
      "execution_count": null,
      "outputs": [
        {
          "output_type": "stream",
          "name": "stdout",
          "text": [
            " \"Adriana\" \n",
            " \"Adriana\" \n",
            "Ingenieria \n",
            "\ten \n",
            "\t\tComputación\n"
          ]
        }
      ]
    },
    {
      "cell_type": "markdown",
      "metadata": {
        "id": "GLaZ30II8dbr"
      },
      "source": [
        "# String y caracteres de escape\n",
        "\n",
        "- \\\\\"   --> \"\n",
        "- \\\\'   --> '\n",
        "- \\n   --> Salto de linea (tecla enter)\n",
        "- \\t   --> tabulador spacios a la izq.\n",
        "- \\uxxxx  --> Caracteres unicode \n",
        "- \\Uxxxxxxxx --> unicode extendido\n",
        "- \\\\\\   --> \\\\   \n"
      ]
    },
    {
      "cell_type": "markdown",
      "metadata": {
        "id": "q7z7U8UeuHcd"
      },
      "source": [
        ""
      ]
    },
    {
      "cell_type": "code",
      "metadata": {
        "colab": {
          "base_uri": "https://localhost:8080/"
        },
        "id": "xvjkhoditqTW",
        "outputId": "7798e663-64d1-4ebb-f75f-148c430b1e08"
      },
      "source": [
        "print(\"\\u003C\") #latín básico\n",
        "print(\"\\u0444\") #cirilico\n",
        "print(\"\\U0001F60D\") # rellenar con 0 a la izquierda si son menos de 8 digitos\n",
        "print(\"\\U0001F9A0\")\n",
        "print(\"\\U00010057\")\n",
        "print(\"\\U0001F918\")\n",
        "print(\"\\U0001F940\")\n",
        "print(\"\\U0001F912\")\n",
        "print(\"\\U0001F9FC\")"
      ],
      "execution_count": null,
      "outputs": [
        {
          "output_type": "stream",
          "name": "stdout",
          "text": [
            "<\n",
            "ф\n",
            "😍\n",
            "🦠\n",
            "𐁗\n",
            "🤘\n",
            "🥀\n",
            "🤒\n",
            "🧼\n"
          ]
        }
      ]
    },
    {
      "cell_type": "markdown",
      "metadata": {
        "id": "FQGtmloqyL9s"
      },
      "source": [
        "# Función print\n",
        "\n",
        "### Se emplea para desplegar información en la salida estandar. Normalmente un monitor.\n",
        "\n",
        "- Formas de usar print.\n",
        "- el argumento por defecto de print (end).\n",
        "- format().\n",
        "- operador f\" \""
      ]
    },
    {
      "cell_type": "code",
      "metadata": {
        "colab": {
          "base_uri": "https://localhost:8080/"
        },
        "id": "Wg6keQE4y4c3",
        "outputId": "ab5ffd78-d573-4678-bde1-9d860f5430a2"
      },
      "source": [
        "nombre = \"Adriana\"\n",
        "edad = 18\n",
        "casada = True\n",
        "estatura = 1.54\n",
        "\n",
        "\"\"\"\n",
        "Nombre: Adriana\n",
        "  Edad: 18\n",
        "  Esta casada: True\n",
        "  Estatura en metros: 1.54\n",
        "\"\"\"\n",
        "# con comas_ agrega un espacio_concatenación haciendo un casting\n",
        "print( nombre,edad,casada,estatura )\n",
        "print(\"Nombre: \"+ nombre + \"\\n\\tEdad: \" + str(edad) + \"\\n\\tEsta casada : \" + str(casada) + \"\\n\\tEstatura en metros: \" + str(estatura))\n",
        "\n",
        "# con el simbolo de \"+\"_Concatenación en crudo\n",
        "#no hay espacios_hay que covertirlos en string (usar comillas para espacio)\n",
        "print( nombre+ \" \" +str(edad) + \" \" +str(casada) + \" \" +str(estatura) )\n",
        "\n",
        "# Dando formato a la salida con format\n",
        "#trabajar con indices sirve para cambiar el orden del resultado\n",
        "print(\"\\nCon la funcion format()\")\n",
        "print(\"Nombre: {0}\\n\\tEdad: {1}\\n\\tEsta casada: {2}\\n\\tEstatura en metros: {3}\". format (nombre,edad,casada,estatura))\n",
        "print(\"Nombre: {3}\\n\\tEdad: {0}\\n\\tEsta casada: {2}\\n\\tEstatura en metros: {1}\". format (nombre,edad,casada,estatura))\n",
        "\n",
        "#con el operador f\" \"\n",
        "print(\"Con el operador f\\\" \\\"\")\n",
        "print(f\"Nombre: { nombre }\\n\\tEdad: { edad }\\n\\tEsta casada: { casada }\\n\\tEstatura en metros: { estatura }\")\n",
        "\n",
        "#Como manejar el argumento end\n",
        "print(\"Como usar el argumento end\")\n",
        "print(f\"Hola {nombre}\" , end=\"\\n\")\n",
        "print(\", ¿Como estas?\" , end=\"\\n\")\n",
        "print(f\"Hola {nombre}\" , end=\"\\t\")\n",
        "print(\", ¿Como estas?\" , end=\"\\t\")\n",
        "print(f\"Hola {nombre}\" , end=\"\")\n",
        "print(\", ¿Como estas?\" , end=\"\\n\")\n"
      ],
      "execution_count": null,
      "outputs": [
        {
          "output_type": "stream",
          "name": "stdout",
          "text": [
            "Adriana 18 True 1.54\n",
            "Nombre: Adriana\n",
            "\tEdad: 18\n",
            "\tEsta casada : True\n",
            "\tEstatura en metros: 1.54\n",
            "Adriana 18 True 1.54\n",
            "\n",
            "Con la funcion format()\n",
            "Nombre: Adriana\n",
            "\tEdad: 18\n",
            "\tEsta casada: True\n",
            "\tEstatura en metros: 1.54\n",
            "Nombre: 1.54\n",
            "\tEdad: Adriana\n",
            "\tEsta casada: True\n",
            "\tEstatura en metros: 18\n",
            "Con el operador f\" \"\n",
            "Nombre: Adriana\n",
            "\tEdad: 18\n",
            "\tEsta casada: True\n",
            "\tEstatura en metros: 1.54\n",
            "Como usar el argumento end\n",
            "Hola Adriana\n",
            ", ¿Como estas?\n",
            "Hola Adriana\t, ¿Como estas?\tHola Adriana, ¿Como estas?\n"
          ]
        }
      ]
    },
    {
      "cell_type": "markdown",
      "metadata": {
        "id": "Mt-JpXGB69Qv"
      },
      "source": [
        "#Tarea \n",
        "## con una sola función, su primer nombre (nombre de pila) así....\n",
        "\n",
        "      A\n",
        "     A A\n",
        "    A  A\n",
        "   A     A\n",
        "  A A A A A    (PRINT POR LETRA) MINIMO\n",
        " A         A\n",
        "A           A\n",
        "\n",
        "D\n",
        "D D\n",
        "D  D\n",
        "D   D\n",
        "D   D\n",
        "D  D\n",
        "D D\n",
        "D\n",
        "\n",
        "R R\n",
        "R  R\n",
        "R   R\n",
        "R  R\n",
        "R R\n",
        "R  R\n",
        "R   R\n",
        "R    R\n",
        "\n"
      ]
    },
    {
      "cell_type": "markdown",
      "metadata": {
        "id": "Q1WM7DvJBRdE"
      },
      "source": [
        "# datos de entrada \n",
        "\n",
        "Para solicitar los datos del usuario se emplea la función input. La cual regresa siempre, un tipo de dato String."
      ]
    },
    {
      "cell_type": "code",
      "metadata": {
        "colab": {
          "base_uri": "https://localhost:8080/"
        },
        "id": "dhunCPZ1BfKy",
        "outputId": "70d995d7-993a-4407-847f-3c24b319c25c"
      },
      "source": [
        "nombre = input(\"Ingresa tu nombre\")\n",
        "print(\"Tecleaste:\" , nombre )"
      ],
      "execution_count": null,
      "outputs": [
        {
          "output_type": "stream",
          "name": "stdout",
          "text": [
            "Ingresa tu nombreAdriana\n",
            "Tecleaste:  Adriana\n"
          ]
        }
      ]
    },
    {
      "cell_type": "markdown",
      "metadata": {
        "id": "GOi5ceC5B-tr"
      },
      "source": [
        "#¿Como capturar datos numericos?\n",
        "Para ello se hace una conversación entre tipo...\n",
        "casting.. consiste en llamr al constructor de la clase desedad.\n",
        "\n",
        "## Ejemplo convertir el string \"2\" en numero\n",
        "### num = int(\"2\")"
      ]
    },
    {
      "cell_type": "code",
      "metadata": {
        "colab": {
          "base_uri": "https://localhost:8080/"
        },
        "id": "xLOIbDIICdsE",
        "outputId": "dda17e08-d691-424f-802b-f617c9770067"
      },
      "source": [
        "entrada = input(\"Dame tu edad: \")\n",
        "edad = int(entrada)\n",
        "edad += 1 #edad = edad + 1\n",
        "print(\"Tu edad es: \", edad)"
      ],
      "execution_count": null,
      "outputs": [
        {
          "output_type": "stream",
          "name": "stdout",
          "text": [
            "Dame tu edad: 18\n",
            "Tu edad es:  19\n"
          ]
        }
      ]
    },
    {
      "cell_type": "code",
      "metadata": {
        "colab": {
          "base_uri": "https://localhost:8080/"
        },
        "id": "n-Sz68tXC8_K",
        "outputId": "0692ca66-7e75-49b6-e895-262ab1a6ddb2"
      },
      "source": [
        "# lo anterior pero más corto o más fácil\n",
        "\n",
        "edad = int( input(\"Dame tu edad: \") )\n",
        "print(\"tu edad es: \", edad+1 )\n",
        "\n",
        "#estatura con float para numeros con decimal\n",
        "estatura = float( input(\"Dame tu estatura: \") )\n",
        "print(\"tu estatura es: \", estatura+0.1 )"
      ],
      "execution_count": null,
      "outputs": [
        {
          "output_type": "stream",
          "name": "stdout",
          "text": [
            "Dame tu edad: 18\n",
            "tu edad es:  19\n",
            "Dame tu estatura: 1.54\n",
            "tu estatura es:  1.6400000000000001\n"
          ]
        }
      ]
    },
    {
      "cell_type": "code",
      "metadata": {
        "colab": {
          "base_uri": "https://localhost:8080/"
        },
        "id": "ep6ORkfnET3y",
        "outputId": "e09c8de4-2743-4f43-c2dc-8f377a196af7"
      },
      "source": [
        "# input booleans\n",
        "#convertir a entero int\n",
        "casada = bool(int(input(\"Soltera (0) casada (1)\")))\n",
        "print(\"casada=\", casada )"
      ],
      "execution_count": null,
      "outputs": [
        {
          "output_type": "stream",
          "name": "stdout",
          "text": [
            "Soltera (0) casada (1)0\n",
            "casada= False\n"
          ]
        }
      ]
    }
  ]
}