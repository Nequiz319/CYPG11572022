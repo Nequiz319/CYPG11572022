{
  "nbformat": 4,
  "nbformat_minor": 0,
  "metadata": {
    "colab": {
      "name": "FundamentosCyP1157.ipynb",
      "provenance": [],
      "authorship_tag": "ABX9TyMwZD/RzF6yG5p8N/Ed3+XR",
      "include_colab_link": true
    },
    "kernelspec": {
      "name": "python3",
      "display_name": "Python 3"
    },
    "language_info": {
      "name": "python"
    }
  },
  "cells": [
    {
      "cell_type": "markdown",
      "metadata": {
        "id": "view-in-github",
        "colab_type": "text"
      },
      "source": [
        "<a href=\"https://colab.research.google.com/github/Nequiz319/CYPG11572022/blob/main/FundamentosCyP1157.ipynb\" target=\"_parent\"><img src=\"https://colab.research.google.com/assets/colab-badge.svg\" alt=\"Open In Colab\"/></a>"
      ]
    },
    {
      "cell_type": "code",
      "metadata": {
        "colab": {
          "base_uri": "https://localhost:8080/"
        },
        "id": "SQBjdki6Va9T",
        "outputId": "3a9486af-2b8c-4287-a0f3-35f4bd282c98"
      },
      "source": [
        "nombre='Adriana' # Tipo de dato String (Cadena de caracteres)\n",
        "\n",
        "print (nombre)\n",
        "\n"
      ],
      "execution_count": null,
      "outputs": [
        {
          "output_type": "stream",
          "name": "stdout",
          "text": [
            "Adriana\n"
          ]
        }
      ]
    },
    {
      "cell_type": "markdown",
      "metadata": {
        "id": "H6k9oMYaXMc1"
      },
      "source": [
        "#tipos de dato en Python\n",
        "### Tipos simples\n",
        "- str --> String cadena de caractéres.\n",
        "- int --> Numeros enteros\n",
        "- float --> Numeros con notación de punto flotante\n",
        "- complex --> Numeros complejos\n",
        "- bool --> Boleano (True o Fals)\n",
        "- byte --> 8 bits\n",
        "\n",
        "### Tipos de datos Estructurados (compuestos)\n",
        "\n",
        "\n",
        "- list --> Listas\n",
        "- dict --> Diccionarios\n",
        "- set y frozenset --> conjuntos\n",
        "- tuple --> Listas no mutables\n"
      ]
    },
    {
      "cell_type": "code",
      "metadata": {
        "colab": {
          "base_uri": "https://localhost:8080/"
        },
        "id": "x4yiu4IOaiF2",
        "outputId": "3ab2e336-dec1-4471-8d8c-7e109a3d60e2"
      },
      "source": [
        "import sys \n",
        "edad = 18\n",
        "print(\"Tu edad es:\", edad) # al final de una línea de código\n",
        "\n",
        "\"\"\"\n",
        "comentario de multiples líneas con las comillas\n",
        "en lenguaje c, c++ y java se hace con /* comentario...*/\n",
        "y de una sola linea en java y c, c++ es con //\n",
        "sirven para guiarnos o para ayudarnos cunado el código se complica\n",
        "\"\"\"\n",
        "# Tipos de datos núemericos int y float\n",
        "print (sys. getsizeof(edad))\n",
        "#tamaño en bits que utiliza la variable, biblioteca sys\n",
        "#El tipo de dato int utiliza cantidade bits segun el lenguaje de programación\n",
        "#por ejemplo en C utiliza 16 bits\n",
        "\n",
        "edad = edad + 1\n",
        "print( edad )\n",
        "\n",
        "estatura = 1.54\n",
        "print( estatura )\n",
        "print( sys.getsizeof(estatura))\n",
        "estatura = estatura + 0.1\n",
        "print( estatura )\n",
        "print( round(estatura,2))\n",
        "\n",
        "edad += 1 # equivale a : edad= edad + 1\n",
        "print( \"Tu edad es:\", edad )\n",
        "\n",
        "edad -= 1\n",
        "print( \"Tu edad es:\", edad )\n",
        "\n",
        "edad += 1\n",
        "edad /= 2\n",
        "print( \"La mitad de tu edad es:\", edad )\n",
        "\n",
        "edad = 20\n",
        "\n",
        "edad = edad // 2 #nos dara como resultado numeros enteros con las 2 diagonales\n",
        "print( \"La mitad de tu edad es:\", edad )\n",
        "\n",
        "numero = edad / 2.0\n",
        "print( numero )\n",
        "\n",
        "numero = numero * 3\n",
        "print( numero )\n",
        "\n",
        "numero *= 3 # es lo mismo que * 3 \n",
        "print( numero )\n",
        "\n",
        "numero = 5.0\n",
        "numero = numero ** 2 # a la potencia, también se puede nuemro **= 2\n",
        "print( numero )\n",
        "\n",
        "#MODULO\n",
        "numero = 21\n",
        "print( numero / 2 )"
      ],
      "execution_count": null,
      "outputs": [
        {
          "output_type": "stream",
          "name": "stdout",
          "text": [
            "Tu edad es: 18\n",
            "28\n",
            "19\n",
            "1.54\n",
            "24\n",
            "1.6400000000000001\n",
            "1.64\n",
            "Tu edad es: 20\n",
            "Tu edad es: 19\n",
            "La mitad de tu edad es: 10.0\n",
            "La mitad de tu edad es: 10\n",
            "5.0\n",
            "15.0\n",
            "45.0\n",
            "25.0\n",
            "10.5\n"
          ]
        }
      ]
    },
    {
      "cell_type": "code",
      "metadata": {
        "colab": {
          "base_uri": "https://localhost:8080/"
        },
        "id": "UOHm3CzwluPE",
        "outputId": "4d04909e-4f89-43fb-ac3b-95ae5f0671c3"
      },
      "source": [
        "# modulo\n",
        "numero = 21\n",
        "print( numero / 2 )\n",
        "print( numero // 2 )\n",
        "\n",
        "#el operador modulo da como resultado el residuo de una operación entera \n",
        "# y se utiliza % para utilizar el operador modulo\n",
        "print( numero % 2 )\n",
        "\n",
        "numero = 24\n",
        "print( \"Residuo de 24/ 5:\", numero % 5 )\n",
        "\n",
        "print( numero % 2 ==0 ) #operador relacional de false o true \n",
        "\n",
        "print( numero % 2 > 0 ) # ejemplo de los operadores racionales\n",
        "\n",
        "print( numero < 15 )\n",
        "print( \"24 es diferente a 23: \", numero != 23 )\n",
        "print( \"24 es mayor o igual a 23: \", numero >= 23 )\n",
        "\n",
        "print(\" El tipo de dato de la variable numero es:\", type(numero))\n",
        "print(\" El tipo de dato de la variable numero/2.0 es:\", type(numero/2.0))\n",
        "\n"
      ],
      "execution_count": null,
      "outputs": [
        {
          "output_type": "stream",
          "name": "stdout",
          "text": [
            "10.5\n",
            "10\n",
            "1\n",
            "Residuo de 24/ 5: 4\n",
            "True\n",
            "False\n",
            "False\n",
            "24 es diferente a 23:  True\n",
            "24 es mayor o igual a 23:  True\n",
            " El tipo de dato de la variable numero es: <class 'int'>\n",
            " El tipo de dato de la variable numero/2.0 es: <class 'float'>\n"
          ]
        }
      ]
    },
    {
      "cell_type": "markdown",
      "metadata": {
        "id": "ttlGw5DRpoHZ"
      },
      "source": [
        "# Tipo de dato String\n",
        "\n",
        "- Se maneja un arreglo (tipo de dato compuesto)\n",
        "- Se puede acceder a los elementos de el string por medio del índice del caracter.\n",
        "- mutable\n",
        "- tiene métodos utiles (potentes).\n",
        "- slicing"
      ]
    },
    {
      "cell_type": "code",
      "metadata": {
        "colab": {
          "base_uri": "https://localhost:8080/"
        },
        "id": "lHAneyKLqIhs",
        "outputId": "c1371df6-11ae-4b4a-c3b4-87da4ebb9d03"
      },
      "source": [
        "nombre = 'Adriana'\n",
        "carrera = 'Ingeniería en computación'\n",
        "frase = \"\"\" No eres lo que logras\n",
        "eres lo que superas....\"\"\"\n",
        "print( nombre )\n",
        "print( carrera )\n",
        "print( frase )\n",
        "# La función type  de python te devuelve el tipo de datos de una variable\n",
        "print( type(nombre) )\n",
        "\n",
        "apellidopaterno = str( \"Nequiz\" )\n",
        "print(apellidopaterno)"
      ],
      "execution_count": null,
      "outputs": [
        {
          "output_type": "stream",
          "name": "stdout",
          "text": [
            "Adriana\n",
            "Ingeniería en computación\n",
            " No eres lo que logras\n",
            "eres lo que superas....\n",
            "<class 'str'>\n",
            "Nequiz\n"
          ]
        }
      ]
    }
  ]
}