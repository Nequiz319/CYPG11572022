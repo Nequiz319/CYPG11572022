{
  "nbformat": 4,
  "nbformat_minor": 0,
  "metadata": {
    "colab": {
      "name": "pelicularesplandor.ipynb",
      "provenance": [],
      "authorship_tag": "ABX9TyMAXrPqfQ4QvYaAGKBC3FaO",
      "include_colab_link": true
    },
    "kernelspec": {
      "name": "python3",
      "display_name": "Python 3"
    },
    "language_info": {
      "name": "python"
    }
  },
  "cells": [
    {
      "cell_type": "markdown",
      "metadata": {
        "id": "view-in-github",
        "colab_type": "text"
      },
      "source": [
        "<a href=\"https://colab.research.google.com/github/Nequiz319/CYPG11572022/blob/main/pelicularesplandor.ipynb\" target=\"_parent\"><img src=\"https://colab.research.google.com/assets/colab-badge.svg\" alt=\"Open In Colab\"/></a>"
      ]
    },
    {
      "cell_type": "code",
      "metadata": {
        "id": "2k6iSemFNKkH"
      },
      "source": [
        "Resplandor ={ \"Director\":\"Stanley Kubrik\",\n",
        "          \"Secuelas\":{\n",
        "              \"secuela 1\" : [\"Habitacion 237\"],\n",
        "              \"secuela 2\" : \"Doctor sueño\"  \n",
        "          }, \n",
        "          \"premios\":{\n",
        "              \"1981\" : \"Premio saturn al mejor actor de reparto\", \n",
        "              \"2012\" : \"Premio saturn a la mejor cpleccion de peliculas en DVD\",\n",
        "          }, \n",
        "          \"Reparto\":{\n",
        "              \"Protagonistas\":{\n",
        "              \"Wendy Torrance\":\"Shelley Duvall\",\n",
        "              \"Jack Nicholson\": \"Jack Torrance\",\n",
        "              \"Jack Nicholson\": \"Jack Torrance\",\n",
        "               }\n",
        "               }, \n",
        "          \"Datos\":{\n",
        "                  \"País\":\"Reino Unido\",\n",
        "                  \"Año\": 1980,\n",
        "                  \"Genero\": \"Drama y Terror\",\n",
        "                  \"Idioma\": \"Ingles\",\n",
        "                  \"compañias\": {\n",
        "                      \"productora\": \"\tWarner Bros. Pictures y Hawk Films\",\n",
        "                      \"Distribución\":\"Warner Bros. Pictures\",\n",
        "                  }\n",
        "              }\n",
        "          }\n",
        "print( Resplandor ) \n",
        "print( Resplandor[\"premios\"][\"1981\"] )"
      ],
      "execution_count": null,
      "outputs": []
    }
  ]
}